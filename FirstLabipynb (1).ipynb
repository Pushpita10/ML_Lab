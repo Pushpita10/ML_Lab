{
  "nbformat": 4,
  "nbformat_minor": 0,
  "metadata": {
    "colab": {
      "name": "FirstLabipynb",
      "provenance": []
    },
    "kernelspec": {
      "name": "python3",
      "display_name": "Python 3"
    }
  },
  "cells": [
    {
      "cell_type": "code",
      "metadata": {
        "id": "Cg3Y-wLLhZo6",
        "colab_type": "code",
        "colab": {
          "base_uri": "https://localhost:8080/",
          "height": 34
        },
        "outputId": "a8e9a5d4-26d8-442f-d021-daa95f006e24"
      },
      "source": [
        "print (\"Hello this is Pushpita Ganguly\")"
      ],
      "execution_count": null,
      "outputs": [
        {
          "output_type": "stream",
          "text": [
            "Hello this is Pushpita Ganguly\n"
          ],
          "name": "stdout"
        }
      ]
    },
    {
      "cell_type": "markdown",
      "metadata": {
        "id": "etZLwN4Zhwa0",
        "colab_type": "text"
      },
      "source": [
        "This is first line <br> This is second line\n"
      ]
    },
    {
      "cell_type": "markdown",
      "metadata": {
        "id": "Il_d_pkFiFOk",
        "colab_type": "text"
      },
      "source": [
        "<h1> Pushpita\n",
        "<h2> Ganguly\n",
        "\n",
        "***\n",
        "* Hi\n",
        "* Hello\n",
        "***\n",
        "#One\n",
        "## Two\n",
        "### Three\n",
        "***\n",
        "[Google](www.google.com)\n",
        "***"
      ]
    },
    {
      "cell_type": "code",
      "metadata": {
        "id": "RTActp3djDh4",
        "colab_type": "code",
        "colab": {
          "base_uri": "https://localhost:8080/",
          "height": 84
        },
        "outputId": "66699fe7-dea3-4d44-b31f-d6968d2322c9"
      },
      "source": [
        "%history"
      ],
      "execution_count": null,
      "outputs": [
        {
          "output_type": "stream",
          "text": [
            "print (\"Hello this is Pushpita Ganguly\")\n",
            "<h1> Pushpita \n",
            "<h2> Ganguly\n",
            "%history\n"
          ],
          "name": "stdout"
        }
      ]
    },
    {
      "cell_type": "code",
      "metadata": {
        "id": "G4NDdV8AkRu8",
        "colab_type": "code",
        "colab": {}
      },
      "source": [
        "test_me = 2\n"
      ],
      "execution_count": null,
      "outputs": []
    },
    {
      "cell_type": "code",
      "metadata": {
        "id": "oUjNEfgVkZBF",
        "colab_type": "code",
        "colab": {
          "base_uri": "https://localhost:8080/",
          "height": 34
        },
        "outputId": "4add1b2c-5df5-4279-d490-bec4cba7ffee"
      },
      "source": [
        "test_me\n"
      ],
      "execution_count": null,
      "outputs": [
        {
          "output_type": "execute_result",
          "data": {
            "text/plain": [
              "2"
            ]
          },
          "metadata": {
            "tags": []
          },
          "execution_count": 5
        }
      ]
    },
    {
      "cell_type": "code",
      "metadata": {
        "id": "Mwjf2FlSkdEE",
        "colab_type": "code",
        "colab": {}
      },
      "source": [
        "goodthing = 1+1\n",
        "badthing = '1' + '1'\n"
      ],
      "execution_count": null,
      "outputs": []
    },
    {
      "cell_type": "code",
      "metadata": {
        "id": "hFhfO8mrk5Dw",
        "colab_type": "code",
        "colab": {
          "base_uri": "https://localhost:8080/",
          "height": 35
        },
        "outputId": "07767d8f-7ae7-4247-cff7-95ced8b45c18"
      },
      "source": [
        "goodthing\n",
        "badthing"
      ],
      "execution_count": null,
      "outputs": [
        {
          "output_type": "execute_result",
          "data": {
            "application/vnd.google.colaboratory.intrinsic": {
              "type": "string"
            },
            "text/plain": [
              "'11'"
            ]
          },
          "metadata": {
            "tags": []
          },
          "execution_count": 8
        }
      ]
    },
    {
      "cell_type": "code",
      "metadata": {
        "id": "vrZaTo1qlgg-",
        "colab_type": "code",
        "colab": {
          "base_uri": "https://localhost:8080/",
          "height": 34
        },
        "outputId": "b3ceecf3-c47e-43ca-923d-fda0da75f2e2"
      },
      "source": [
        "goodthing\n",
        "#badthing"
      ],
      "execution_count": null,
      "outputs": [
        {
          "output_type": "execute_result",
          "data": {
            "text/plain": [
              "2"
            ]
          },
          "metadata": {
            "tags": []
          },
          "execution_count": 9
        }
      ]
    },
    {
      "cell_type": "code",
      "metadata": {
        "id": "nlOFY5-0l2Hg",
        "colab_type": "code",
        "colab": {
          "base_uri": "https://localhost:8080/",
          "height": 50
        },
        "outputId": "06763531-fd35-459e-dae0-d13e197f498f"
      },
      "source": [
        "i=0\n",
        "print(i)\n",
        "i=i+1\n",
        "print(i)"
      ],
      "execution_count": null,
      "outputs": [
        {
          "output_type": "stream",
          "text": [
            "0\n",
            "1\n"
          ],
          "name": "stdout"
        }
      ]
    },
    {
      "cell_type": "code",
      "metadata": {
        "id": "nIaT9wutmv3v",
        "colab_type": "code",
        "colab": {
          "base_uri": "https://localhost:8080/",
          "height": 34
        },
        "outputId": "3a89d500-1f87-4ff0-dbd4-045fe32dd412"
      },
      "source": [
        "a=1\n",
        "b=2\n",
        "c=3\n",
        "d=a+b+c\n",
        "d"
      ],
      "execution_count": null,
      "outputs": [
        {
          "output_type": "execute_result",
          "data": {
            "text/plain": [
              "6"
            ]
          },
          "metadata": {
            "tags": []
          },
          "execution_count": 11
        }
      ]
    },
    {
      "cell_type": "code",
      "metadata": {
        "id": "mC-jupNdpRMG",
        "colab_type": "code",
        "colab": {
          "base_uri": "https://localhost:8080/",
          "height": 34
        },
        "outputId": "837d97e8-9248-4300-b724-607fc947bea5"
      },
      "source": [
        "Fruit_list = [\"Mango\", \"Banana\", \"Orange\", \"Apple\", \"Grapes\"]\n",
        "type(Fruit_list)"
      ],
      "execution_count": null,
      "outputs": [
        {
          "output_type": "execute_result",
          "data": {
            "text/plain": [
              "list"
            ]
          },
          "metadata": {
            "tags": []
          },
          "execution_count": 17
        }
      ]
    },
    {
      "cell_type": "code",
      "metadata": {
        "id": "z4Y720YTqFN6",
        "colab_type": "code",
        "colab": {
          "base_uri": "https://localhost:8080/",
          "height": 34
        },
        "outputId": "6d7d9d1b-79c8-4069-dd59-f736eace9c16"
      },
      "source": [
        "len(Fruit_list)"
      ],
      "execution_count": null,
      "outputs": [
        {
          "output_type": "execute_result",
          "data": {
            "text/plain": [
              "5"
            ]
          },
          "metadata": {
            "tags": []
          },
          "execution_count": 18
        }
      ]
    },
    {
      "cell_type": "code",
      "metadata": {
        "id": "gzCsATSYqORU",
        "colab_type": "code",
        "colab": {
          "base_uri": "https://localhost:8080/",
          "height": 34
        },
        "outputId": "8f0c96fd-5c81-4fdf-d654-0290e9db57fd"
      },
      "source": [
        "print(Fruit_list[0])"
      ],
      "execution_count": null,
      "outputs": [
        {
          "output_type": "stream",
          "text": [
            "Mango\n"
          ],
          "name": "stdout"
        }
      ]
    },
    {
      "cell_type": "code",
      "metadata": {
        "id": "dqjbT4r-qVjg",
        "colab_type": "code",
        "colab": {
          "base_uri": "https://localhost:8080/",
          "height": 34
        },
        "outputId": "f840a07c-a4d3-45d3-c125-a4dbc95f0b11"
      },
      "source": [
        "print(Fruit_list[-1])"
      ],
      "execution_count": null,
      "outputs": [
        {
          "output_type": "stream",
          "text": [
            "Grapes\n"
          ],
          "name": "stdout"
        }
      ]
    },
    {
      "cell_type": "code",
      "metadata": {
        "id": "Se3R3108qcVf",
        "colab_type": "code",
        "colab": {
          "base_uri": "https://localhost:8080/",
          "height": 34
        },
        "outputId": "5aa8b137-c0b2-4a85-eaa5-5db121a75a6e"
      },
      "source": [
        "print(Fruit_list[3])"
      ],
      "execution_count": null,
      "outputs": [
        {
          "output_type": "stream",
          "text": [
            "Apple\n"
          ],
          "name": "stdout"
        }
      ]
    },
    {
      "cell_type": "code",
      "metadata": {
        "id": "Z7Au1owCqhuu",
        "colab_type": "code",
        "colab": {
          "base_uri": "https://localhost:8080/",
          "height": 34
        },
        "outputId": "b6680141-200d-4ccc-951a-1983a5fc7dda"
      },
      "source": [
        "print(Fruit_list[-3])"
      ],
      "execution_count": null,
      "outputs": [
        {
          "output_type": "stream",
          "text": [
            "Orange\n"
          ],
          "name": "stdout"
        }
      ]
    },
    {
      "cell_type": "code",
      "metadata": {
        "id": "X2baRHtFqr8r",
        "colab_type": "code",
        "colab": {
          "base_uri": "https://localhost:8080/",
          "height": 34
        },
        "outputId": "f4676870-6283-4600-99d5-f8a3a2959d30"
      },
      "source": [
        "print(Fruit_list[1:4])"
      ],
      "execution_count": null,
      "outputs": [
        {
          "output_type": "stream",
          "text": [
            "['Banana', 'Orange', 'Apple']\n"
          ],
          "name": "stdout"
        }
      ]
    },
    {
      "cell_type": "code",
      "metadata": {
        "id": "_DjoOp-Jq3cA",
        "colab_type": "code",
        "colab": {
          "base_uri": "https://localhost:8080/",
          "height": 34
        },
        "outputId": "e0eef77d-263d-4576-bd14-52091d718cef"
      },
      "source": [
        "print(Fruit_list[:2])"
      ],
      "execution_count": null,
      "outputs": [
        {
          "output_type": "stream",
          "text": [
            "['Mango', 'Banana']\n"
          ],
          "name": "stdout"
        }
      ]
    },
    {
      "cell_type": "code",
      "metadata": {
        "id": "4j1V9kFRq9YM",
        "colab_type": "code",
        "colab": {
          "base_uri": "https://localhost:8080/",
          "height": 34
        },
        "outputId": "16883bbe-94b0-46c7-849b-59c82f1fcd26"
      },
      "source": [
        "print(Fruit_list[3:])"
      ],
      "execution_count": null,
      "outputs": [
        {
          "output_type": "stream",
          "text": [
            "['Apple', 'Grapes']\n"
          ],
          "name": "stdout"
        }
      ]
    },
    {
      "cell_type": "code",
      "metadata": {
        "id": "kKSkBmBsrEgZ",
        "colab_type": "code",
        "colab": {
          "base_uri": "https://localhost:8080/",
          "height": 34
        },
        "outputId": "73956cc7-30f9-4e73-cc77-c67cbdcd4220"
      },
      "source": [
        "Fruit_list"
      ],
      "execution_count": null,
      "outputs": [
        {
          "output_type": "execute_result",
          "data": {
            "text/plain": [
              "['Mango', 'Banana', 'Orange', 'Apple', 'Grapes']"
            ]
          },
          "metadata": {
            "tags": []
          },
          "execution_count": 26
        }
      ]
    },
    {
      "cell_type": "code",
      "metadata": {
        "id": "LCSqH5LdrHCA",
        "colab_type": "code",
        "colab": {
          "base_uri": "https://localhost:8080/",
          "height": 34
        },
        "outputId": "40a944d6-a10c-4158-80ea-a7915ed7ee9c"
      },
      "source": [
        "Fruit_list[2]=\"Jackfruit\"\n",
        "Fruit_list"
      ],
      "execution_count": null,
      "outputs": [
        {
          "output_type": "execute_result",
          "data": {
            "text/plain": [
              "['Mango', 'Banana', 'Jackfruit', 'Apple', 'Grapes']"
            ]
          },
          "metadata": {
            "tags": []
          },
          "execution_count": 27
        }
      ]
    },
    {
      "cell_type": "code",
      "metadata": {
        "id": "zRfWaIOkrkBc",
        "colab_type": "code",
        "colab": {
          "base_uri": "https://localhost:8080/",
          "height": 34
        },
        "outputId": "589a63da-b885-411f-804b-99ae712f90be"
      },
      "source": [
        "Fruit_list.append(\"Orange\")\n",
        "Fruit_list"
      ],
      "execution_count": null,
      "outputs": [
        {
          "output_type": "execute_result",
          "data": {
            "text/plain": [
              "['Mango', 'Banana', 'Jackfruit', 'Apple', 'Grapes', 'Orange']"
            ]
          },
          "metadata": {
            "tags": []
          },
          "execution_count": 29
        }
      ]
    },
    {
      "cell_type": "code",
      "metadata": {
        "id": "U-rmDdgftWTD",
        "colab_type": "code",
        "colab": {
          "base_uri": "https://localhost:8080/",
          "height": 50
        },
        "outputId": "7683b371-e9c9-4abf-8d77-0661b7d281a6"
      },
      "source": [
        "print(\"The original list was: \")\n",
        "Fruit_list"
      ],
      "execution_count": null,
      "outputs": [
        {
          "output_type": "stream",
          "text": [
            "The original list was: \n"
          ],
          "name": "stdout"
        },
        {
          "output_type": "execute_result",
          "data": {
            "text/plain": [
              "['Mango', 'Banana', 'Jackfruit', 'Apple', 'Grapes', 'Orange']"
            ]
          },
          "metadata": {
            "tags": []
          },
          "execution_count": 30
        }
      ]
    },
    {
      "cell_type": "code",
      "metadata": {
        "id": "aPEG92EbtiLi",
        "colab_type": "code",
        "colab": {
          "base_uri": "https://localhost:8080/",
          "height": 50
        },
        "outputId": "32d4de76-c559-4850-8294-bd73a61604f5"
      },
      "source": [
        "print(\"Now the updated list is:\")\n",
        "del Fruit_list[2]\n",
        "Fruit_list"
      ],
      "execution_count": null,
      "outputs": [
        {
          "output_type": "stream",
          "text": [
            "Now the updated list is:\n"
          ],
          "name": "stdout"
        },
        {
          "output_type": "execute_result",
          "data": {
            "text/plain": [
              "['Mango', 'Banana', 'Grapes', 'Orange']"
            ]
          },
          "metadata": {
            "tags": []
          },
          "execution_count": 37
        }
      ]
    },
    {
      "cell_type": "code",
      "metadata": {
        "id": "sY8v8tC06GX6",
        "colab_type": "code",
        "colab": {
          "base_uri": "https://localhost:8080/",
          "height": 34
        },
        "outputId": "f37941fc-3291-4df2-98f1-a79525cebd72"
      },
      "source": [
        "a = 1 + 2\n",
        "print(a)"
      ],
      "execution_count": null,
      "outputs": [
        {
          "output_type": "stream",
          "text": [
            "3\n"
          ],
          "name": "stdout"
        }
      ]
    },
    {
      "cell_type": "code",
      "metadata": {
        "id": "jhvty4Oh6GYh",
        "colab_type": "code",
        "colab": {
          "base_uri": "https://localhost:8080/",
          "height": 34
        },
        "outputId": "fcdced9e-af13-475f-fc49-8e29a9a969db"
      },
      "source": [
        "mystring = \"And three shall be the count.\" \n",
        "\n",
        "print(mystring)"
      ],
      "execution_count": null,
      "outputs": [
        {
          "output_type": "stream",
          "text": [
            "And three shall be the count.\n"
          ],
          "name": "stdout"
        }
      ]
    },
    {
      "cell_type": "code",
      "metadata": {
        "id": "49gDYxDu6GZE",
        "colab_type": "code",
        "colab": {}
      },
      "source": [
        "move_me = 1\n",
        "move_me_too = 'abc'"
      ],
      "execution_count": null,
      "outputs": []
    },
    {
      "cell_type": "code",
      "metadata": {
        "id": "smNyetPu5U4_",
        "colab_type": "code",
        "colab": {
          "base_uri": "https://localhost:8080/",
          "height": 34
        },
        "outputId": "49ba39f6-9551-4f3c-fead-5bbd03bd8d7d"
      },
      "source": [
        "first_name = \"Pushpita\"\n",
        "last_name = \"Ganguly\"\n",
        "full_name = first_name + last_name\n",
        "print(full_name)"
      ],
      "execution_count": null,
      "outputs": [
        {
          "output_type": "stream",
          "text": [
            "PushpitaGanguly\n"
          ],
          "name": "stdout"
        }
      ]
    },
    {
      "cell_type": "code",
      "metadata": {
        "id": "vYerUBwu5U5G",
        "colab_type": "code",
        "colab": {
          "base_uri": "https://localhost:8080/",
          "height": 34
        },
        "outputId": "abbd6ac5-8aa5-40fe-b729-6885177a1710"
      },
      "source": [
        "full_name = first_name + \" \" + last_name\n",
        "print(full_name)"
      ],
      "execution_count": null,
      "outputs": [
        {
          "output_type": "stream",
          "text": [
            "Pushpita Ganguly\n"
          ],
          "name": "stdout"
        }
      ]
    },
    {
      "cell_type": "code",
      "metadata": {
        "id": "i_LCdOIE5U5L",
        "colab_type": "code",
        "colab": {
          "base_uri": "https://localhost:8080/",
          "height": 35
        },
        "outputId": "b4cf5579-3855-4be9-9523-e2ee11ba0c64"
      },
      "source": [
        "full_name[1]"
      ],
      "execution_count": null,
      "outputs": [
        {
          "output_type": "execute_result",
          "data": {
            "application/vnd.google.colaboratory.intrinsic": {
              "type": "string"
            },
            "text/plain": [
              "'u'"
            ]
          },
          "metadata": {
            "tags": []
          },
          "execution_count": 6
        }
      ]
    },
    {
      "cell_type": "code",
      "metadata": {
        "colab_type": "code",
        "id": "GxIfSX-G8RFw",
        "colab": {
          "base_uri": "https://localhost:8080/",
          "height": 35
        },
        "outputId": "0b529862-3612-490f-8143-4475da7accd9"
      },
      "source": [
        "full_name[3]"
      ],
      "execution_count": null,
      "outputs": [
        {
          "output_type": "execute_result",
          "data": {
            "application/vnd.google.colaboratory.intrinsic": {
              "type": "string"
            },
            "text/plain": [
              "'h'"
            ]
          },
          "metadata": {
            "tags": []
          },
          "execution_count": 7
        }
      ]
    },
    {
      "cell_type": "code",
      "metadata": {
        "id": "dQmWCgJf8hAJ",
        "colab_type": "code",
        "colab": {
          "base_uri": "https://localhost:8080/",
          "height": 35
        },
        "outputId": "fc60c74a-d7ac-4414-cc74-862a28dc4432"
      },
      "source": [
        "full_name[7]"
      ],
      "execution_count": null,
      "outputs": [
        {
          "output_type": "execute_result",
          "data": {
            "application/vnd.google.colaboratory.intrinsic": {
              "type": "string"
            },
            "text/plain": [
              "'a'"
            ]
          },
          "metadata": {
            "tags": []
          },
          "execution_count": 8
        }
      ]
    },
    {
      "cell_type": "code",
      "metadata": {
        "id": "9IrxhwMR8nLW",
        "colab_type": "code",
        "colab": {
          "base_uri": "https://localhost:8080/",
          "height": 35
        },
        "outputId": "1cc27bbd-9a1f-4cca-ef82-c2fcb2b1e19c"
      },
      "source": [
        "full_name[0:4]"
      ],
      "execution_count": null,
      "outputs": [
        {
          "output_type": "execute_result",
          "data": {
            "application/vnd.google.colaboratory.intrinsic": {
              "type": "string"
            },
            "text/plain": [
              "'Push'"
            ]
          },
          "metadata": {
            "tags": []
          },
          "execution_count": 9
        }
      ]
    },
    {
      "cell_type": "code",
      "metadata": {
        "id": "AiH47nyI5U5d",
        "colab_type": "code",
        "colab": {
          "base_uri": "https://localhost:8080/",
          "height": 35
        },
        "outputId": "f943c926-4fc9-4493-88e3-f23348552c2e"
      },
      "source": [
        "full_name[0:10]"
      ],
      "execution_count": null,
      "outputs": [
        {
          "output_type": "execute_result",
          "data": {
            "application/vnd.google.colaboratory.intrinsic": {
              "type": "string"
            },
            "text/plain": [
              "'Pushpita G'"
            ]
          },
          "metadata": {
            "tags": []
          },
          "execution_count": 11
        }
      ]
    },
    {
      "cell_type": "code",
      "metadata": {
        "id": "4r_yvYkh9IEU",
        "colab_type": "code",
        "colab": {
          "base_uri": "https://localhost:8080/",
          "height": 35
        },
        "outputId": "611a053c-1177-4841-b180-d04be1a1409d"
      },
      "source": [
        "full_name[:5]"
      ],
      "execution_count": null,
      "outputs": [
        {
          "output_type": "execute_result",
          "data": {
            "application/vnd.google.colaboratory.intrinsic": {
              "type": "string"
            },
            "text/plain": [
              "'Pushp'"
            ]
          },
          "metadata": {
            "tags": []
          },
          "execution_count": 12
        }
      ]
    },
    {
      "cell_type": "code",
      "metadata": {
        "id": "_xKV0wFC5U5l",
        "colab_type": "code",
        "colab": {
          "base_uri": "https://localhost:8080/",
          "height": 35
        },
        "outputId": "27a27a84-e6fd-4fd7-f352-12a7e6cd0df6"
      },
      "source": [
        "full_name[5:]"
      ],
      "execution_count": null,
      "outputs": [
        {
          "output_type": "execute_result",
          "data": {
            "application/vnd.google.colaboratory.intrinsic": {
              "type": "string"
            },
            "text/plain": [
              "'ita Ganguly'"
            ]
          },
          "metadata": {
            "tags": []
          },
          "execution_count": 13
        }
      ]
    },
    {
      "cell_type": "code",
      "metadata": {
        "id": "WxgGSA0l5U5x",
        "colab_type": "code",
        "colab": {
          "base_uri": "https://localhost:8080/",
          "height": 35
        },
        "outputId": "1d855f07-e5bc-450d-fdd5-cd3ce31c0bf6"
      },
      "source": [
        "full_name.upper()"
      ],
      "execution_count": null,
      "outputs": [
        {
          "output_type": "execute_result",
          "data": {
            "application/vnd.google.colaboratory.intrinsic": {
              "type": "string"
            },
            "text/plain": [
              "'PUSHPITA GANGULY'"
            ]
          },
          "metadata": {
            "tags": []
          },
          "execution_count": 14
        }
      ]
    },
    {
      "cell_type": "code",
      "metadata": {
        "id": "VimmTn9q5U54",
        "colab_type": "code",
        "colab": {
          "base_uri": "https://localhost:8080/",
          "height": 50
        },
        "outputId": "c24103f3-792f-4269-ad3a-6e5f969ad274"
      },
      "source": [
        "print(full_name)\n",
        "full_name = full_name.upper()\n",
        "print(full_name)"
      ],
      "execution_count": null,
      "outputs": [
        {
          "output_type": "stream",
          "text": [
            "Pushpita Ganguly\n",
            "PUSHPITA GANGULY\n"
          ],
          "name": "stdout"
        }
      ]
    },
    {
      "cell_type": "markdown",
      "metadata": {
        "id": "TOhf-3pW-Al1",
        "colab_type": "text"
      },
      "source": [
        "* `split`\n",
        "* `join`\n",
        "* `replace`\n",
        "* `strip`\n",
        "* `find`"
      ]
    },
    {
      "cell_type": "code",
      "metadata": {
        "id": "DO8FWOBH5trL",
        "colab_type": "code",
        "colab": {
          "base_uri": "https://localhost:8080/",
          "height": 67
        },
        "outputId": "c3e2267e-45ef-4b05-9c1b-1f9145196e32"
      },
      "source": [
        "print('before')\n",
        "print()\n",
        "print('after')"
      ],
      "execution_count": null,
      "outputs": [
        {
          "output_type": "stream",
          "text": [
            "before\n",
            "\n",
            "after\n"
          ],
          "name": "stdout"
        }
      ]
    },
    {
      "cell_type": "code",
      "metadata": {
        "id": "3hLlnPl15trR",
        "colab_type": "code",
        "colab": {
          "base_uri": "https://localhost:8080/",
          "height": 50
        },
        "outputId": "0634c8c8-621b-48a4-d9c6-e45c97c23993"
      },
      "source": [
        "print(max(1, 2, 3))\n",
        "print(min('a', 'A', '0'))"
      ],
      "execution_count": null,
      "outputs": [
        {
          "output_type": "stream",
          "text": [
            "3\n",
            "0\n"
          ],
          "name": "stdout"
        }
      ]
    },
    {
      "cell_type": "code",
      "metadata": {
        "id": "54o1UXxm5trW",
        "colab_type": "code",
        "colab": {
          "base_uri": "https://localhost:8080/",
          "height": 164
        },
        "outputId": "df912cd1-61d2-4545-d9a8-209e02f1f573"
      },
      "source": [
        "print(max(1, 'a'))"
      ],
      "execution_count": null,
      "outputs": [
        {
          "output_type": "error",
          "ename": "TypeError",
          "evalue": "ignored",
          "traceback": [
            "\u001b[0;31m---------------------------------------------------------------------------\u001b[0m",
            "\u001b[0;31mTypeError\u001b[0m                                 Traceback (most recent call last)",
            "\u001b[0;32m<ipython-input-20-3f049acf3762>\u001b[0m in \u001b[0;36m<module>\u001b[0;34m()\u001b[0m\n\u001b[0;32m----> 1\u001b[0;31m \u001b[0mprint\u001b[0m\u001b[0;34m(\u001b[0m\u001b[0mmax\u001b[0m\u001b[0;34m(\u001b[0m\u001b[0;36m1\u001b[0m\u001b[0;34m,\u001b[0m \u001b[0;34m'a'\u001b[0m\u001b[0;34m)\u001b[0m\u001b[0;34m)\u001b[0m\u001b[0;34m\u001b[0m\u001b[0;34m\u001b[0m\u001b[0m\n\u001b[0m",
            "\u001b[0;31mTypeError\u001b[0m: '>' not supported between instances of 'str' and 'int'"
          ]
        }
      ]
    },
    {
      "cell_type": "code",
      "metadata": {
        "id": "hHk3qmeR5trb",
        "colab_type": "code",
        "colab": {
          "base_uri": "https://localhost:8080/",
          "height": 34
        },
        "outputId": "ef170126-b779-4458-d92c-b0697f18a5c4"
      },
      "source": [
        "round(3.712)"
      ],
      "execution_count": null,
      "outputs": [
        {
          "output_type": "execute_result",
          "data": {
            "text/plain": [
              "4"
            ]
          },
          "metadata": {
            "tags": []
          },
          "execution_count": 21
        }
      ]
    },
    {
      "cell_type": "code",
      "metadata": {
        "id": "2fVyryRd5trg",
        "colab_type": "code",
        "colab": {
          "base_uri": "https://localhost:8080/",
          "height": 34
        },
        "outputId": "79dc287d-c74f-4ed8-f292-efc341788569"
      },
      "source": [
        "round(3.712, 1)"
      ],
      "execution_count": null,
      "outputs": [
        {
          "output_type": "execute_result",
          "data": {
            "text/plain": [
              "3.7"
            ]
          },
          "metadata": {
            "tags": []
          },
          "execution_count": 22
        }
      ]
    },
    {
      "cell_type": "code",
      "metadata": {
        "id": "Wl3aeEu95trl",
        "colab_type": "code",
        "colab": {
          "base_uri": "https://localhost:8080/",
          "height": 168
        },
        "outputId": "dd2d386c-a25d-4c2d-acc0-7ab394022223"
      },
      "source": [
        "help(round)"
      ],
      "execution_count": null,
      "outputs": [
        {
          "output_type": "stream",
          "text": [
            "Help on built-in function round in module builtins:\n",
            "\n",
            "round(...)\n",
            "    round(number[, ndigits]) -> number\n",
            "    \n",
            "    Round a number to a given precision in decimal digits (default 0 digits).\n",
            "    This returns an int when called with one argument, otherwise the\n",
            "    same type as the number. ndigits may be negative.\n",
            "\n"
          ],
          "name": "stdout"
        }
      ]
    },
    {
      "cell_type": "code",
      "metadata": {
        "id": "w4kWb4pA5trx",
        "colab_type": "code",
        "colab": {
          "base_uri": "https://localhost:8080/",
          "height": 50
        },
        "outputId": "c79545dc-8238-4655-8fa9-85e1e816de16"
      },
      "source": [
        "result = print('example')\n",
        "print('result of print is', result)"
      ],
      "execution_count": null,
      "outputs": [
        {
          "output_type": "stream",
          "text": [
            "example\n",
            "result of print is None\n"
          ],
          "name": "stdout"
        }
      ]
    },
    {
      "cell_type": "code",
      "metadata": {
        "id": "JmMZIrfP5tr2",
        "colab_type": "code",
        "colab": {
          "base_uri": "https://localhost:8080/",
          "height": 34
        },
        "outputId": "151693a4-8a9e-469e-d0cf-4a2b6282fccb"
      },
      "source": [
        "radiance = 1.0\n",
        "radiance = max(2.1, 2.0 + min(radiance, 1.1 * radiance - 0.5))\n",
        "radiance"
      ],
      "execution_count": null,
      "outputs": [
        {
          "output_type": "execute_result",
          "data": {
            "text/plain": [
              "2.6"
            ]
          },
          "metadata": {
            "tags": []
          },
          "execution_count": 26
        }
      ]
    },
    {
      "cell_type": "code",
      "metadata": {
        "id": "8lXwwQK55tr-",
        "colab_type": "code",
        "colab": {
          "base_uri": "https://localhost:8080/",
          "height": 50
        },
        "outputId": "eebb6c23-ca0e-41c4-9419-e44cac0f9405"
      },
      "source": [
        "rich = \"gold\"\n",
        "poor = \"tin\"\n",
        "print(max(rich, poor))\n",
        "print(max(len(rich), len(poor)))"
      ],
      "execution_count": null,
      "outputs": [
        {
          "output_type": "stream",
          "text": [
            "tin\n",
            "4\n"
          ],
          "name": "stdout"
        }
      ]
    },
    {
      "cell_type": "code",
      "metadata": {
        "id": "GVTaLYvR5tsE",
        "colab_type": "code",
        "colab": {}
      },
      "source": [
        "anthem = '''Jana gana mana adhinayaka, jaya he\n",
        "Bharata bhagya vidhata.\n",
        "\n",
        "Punjab Sindh Gujarat Maratha \n",
        "Dravida Utkala Banga\n",
        "Vindhya Himachala Yamuna Ganga \n",
        "Uchchala Jaladhi taranga.\n",
        "\n",
        "Tava shubha name jage, \n",
        "Tava shubha asisa mage, \n",
        "Gahe tava jaya gatha, \n",
        "Jana gana mangala dayaka jaya he \n",
        "Bharata bhagya vidhata.\n",
        "\n",
        "Jaya he, jaya he, jaya he, Jaya jaya jaya, jaya he!'''"
      ],
      "execution_count": null,
      "outputs": []
    },
    {
      "cell_type": "code",
      "metadata": {
        "id": "7mEkwymdAkXs",
        "colab_type": "code",
        "colab": {
          "base_uri": "https://localhost:8080/",
          "height": 34
        },
        "outputId": "7765ace9-167f-430c-fc30-0164d33bc32a"
      },
      "source": [
        "len(anthem)"
      ],
      "execution_count": null,
      "outputs": [
        {
          "output_type": "execute_result",
          "data": {
            "text/plain": [
              "352"
            ]
          },
          "metadata": {
            "tags": []
          },
          "execution_count": 29
        }
      ]
    },
    {
      "cell_type": "code",
      "metadata": {
        "id": "u1NRhAY-CPh7",
        "colab_type": "code",
        "colab": {
          "base_uri": "https://localhost:8080/",
          "height": 50
        },
        "outputId": "209dc1cf-fb47-4e2c-95dc-5e2eae63db1a"
      },
      "source": [
        "CoList = anthem.split(\"\\n\") \n",
        "Counter = 0\n",
        "for i in CoList: \n",
        "    if i: \n",
        "        Counter += 1\n",
        "          \n",
        "print(\"The number of line is: \") \n",
        "print(Counter) "
      ],
      "execution_count": null,
      "outputs": [
        {
          "output_type": "stream",
          "text": [
            "The number of line is: \n",
            "12\n"
          ],
          "name": "stdout"
        }
      ]
    },
    {
      "cell_type": "code",
      "metadata": {
        "colab_type": "code",
        "id": "GX-CPcPrDdI5",
        "colab": {
          "base_uri": "https://localhost:8080/",
          "height": 50
        },
        "outputId": "7ba2146b-9301-4fe4-b4c4-388b969c274d"
      },
      "source": [
        "CoList = anthem.split(\"\\n\\n\") \n",
        "Counter = 0\n",
        "for i in CoList: \n",
        "    if i: \n",
        "        Counter += 1\n",
        "          \n",
        "print(\"The number of stanzas is: \") \n",
        "print(Counter) "
      ],
      "execution_count": null,
      "outputs": [
        {
          "output_type": "stream",
          "text": [
            "The number of stanzas is: \n",
            "4\n"
          ],
          "name": "stdout"
        }
      ]
    },
    {
      "cell_type": "code",
      "metadata": {
        "id": "eeVnJAqME9Eg",
        "colab_type": "code",
        "colab": {
          "base_uri": "https://localhost:8080/",
          "height": 34
        },
        "outputId": "32eced08-7bf4-47f8-f79c-73eeb603e595"
      },
      "source": [
        "unique = anthem.split()\n",
        "x = set(unique)\n",
        "len(x)"
      ],
      "execution_count": null,
      "outputs": [
        {
          "output_type": "execute_result",
          "data": {
            "text/plain": [
              "38"
            ]
          },
          "metadata": {
            "tags": []
          },
          "execution_count": 37
        }
      ]
    },
    {
      "cell_type": "code",
      "metadata": {
        "colab_type": "code",
        "id": "ftHUMPddGLpt",
        "colab": {
          "base_uri": "https://localhost:8080/",
          "height": 34
        },
        "outputId": "7f342355-51fb-415b-eda4-b1780c717708"
      },
      "source": [
        "anthem = anthem.replace(',','')\n",
        "unique = anthem.split()\n",
        "x = set(unique)\n",
        "len(x)"
      ],
      "execution_count": null,
      "outputs": [
        {
          "output_type": "execute_result",
          "data": {
            "text/plain": [
              "36"
            ]
          },
          "metadata": {
            "tags": []
          },
          "execution_count": 38
        }
      ]
    },
    {
      "cell_type": "code",
      "metadata": {
        "id": "JfWFRc_eGykh",
        "colab_type": "code",
        "colab": {
          "base_uri": "https://localhost:8080/",
          "height": 52
        },
        "outputId": "3ab2eda3-67e4-46a6-8d7b-1a7ed432e7f0"
      },
      "source": [
        "import string\n",
        "remove = str.maketrans('', '', string.punctuation)\n",
        "clean = anthem.translate(remove)\n",
        "clean"
      ],
      "execution_count": null,
      "outputs": [
        {
          "output_type": "execute_result",
          "data": {
            "application/vnd.google.colaboratory.intrinsic": {
              "type": "string"
            },
            "text/plain": [
              "'Jana gana mana adhinayaka jaya he\\nBharata bhagya vidhata\\n\\nPunjab Sindh Gujarat Maratha \\nDravida Utkala Banga\\nVindhya Himachala Yamuna Ganga \\nUchchala Jaladhi taranga\\n\\nTava shubha name jage \\nTava shubha asisa mage \\nGahe tava jaya gatha \\nJana gana mangala dayaka jaya he \\nBharata bhagya vidhata\\n\\nJaya he jaya he jaya he Jaya jaya jaya jaya he'"
            ]
          },
          "metadata": {
            "tags": []
          },
          "execution_count": 41
        }
      ]
    },
    {
      "cell_type": "code",
      "metadata": {
        "id": "RszI9nZ-59xI",
        "colab_type": "code",
        "colab": {}
      },
      "source": [
        "age = 21\n",
        "first_name = 'Pushpita'"
      ],
      "execution_count": null,
      "outputs": []
    },
    {
      "cell_type": "code",
      "metadata": {
        "id": "BN3dzYLG59xO",
        "colab_type": "code",
        "colab": {
          "base_uri": "https://localhost:8080/",
          "height": 34
        },
        "outputId": "7e098b6e-7d4c-41fd-9333-fbbce77d1c78"
      },
      "source": [
        "print(first_name, 'is', age, 'years old')"
      ],
      "execution_count": null,
      "outputs": [
        {
          "output_type": "stream",
          "text": [
            "Pushpita is 21 years old\n"
          ],
          "name": "stdout"
        }
      ]
    },
    {
      "cell_type": "code",
      "metadata": {
        "id": "8Fn_HMRZ59xa",
        "colab_type": "code",
        "colab": {
          "base_uri": "https://localhost:8080/",
          "height": 34
        },
        "outputId": "b953446c-0892-4fe8-8731-a6f5971d0de5"
      },
      "source": [
        "flabadab = 21\n",
        "ewr_422_yY = 'Pushpita'\n",
        "print(ewr_422_yY, 'is', flabadab, 'years old')"
      ],
      "execution_count": null,
      "outputs": [
        {
          "output_type": "stream",
          "text": [
            "Pushpita is 21 years old\n"
          ],
          "name": "stdout"
        }
      ]
    },
    {
      "cell_type": "code",
      "metadata": {
        "id": "2aOpdQaM59xe",
        "colab_type": "code",
        "colab": {
          "base_uri": "https://localhost:8080/",
          "height": 34
        },
        "outputId": "d18ee02e-f228-41db-adb4-8310492d7637"
      },
      "source": [
        "age = age + 3\n",
        "print('Age in three years:', age)"
      ],
      "execution_count": null,
      "outputs": [
        {
          "output_type": "stream",
          "text": [
            "Age in three years: 24\n"
          ],
          "name": "stdout"
        }
      ]
    },
    {
      "cell_type": "code",
      "metadata": {
        "id": "f7WOazq5Jj_E",
        "colab_type": "code",
        "colab": {
          "base_uri": "https://localhost:8080/",
          "height": 1000
        },
        "outputId": "45ff8f34-9ec5-44dd-d8fe-37448b4f90c7"
      },
      "source": [
        "dir()"
      ],
      "execution_count": null,
      "outputs": [
        {
          "output_type": "execute_result",
          "data": {
            "text/plain": [
              "['CoList',\n",
              " 'Counter',\n",
              " 'In',\n",
              " 'Out',\n",
              " '_',\n",
              " '_10',\n",
              " '_11',\n",
              " '_12',\n",
              " '_13',\n",
              " '_14',\n",
              " '_21',\n",
              " '_22',\n",
              " '_26',\n",
              " '_29',\n",
              " '_36',\n",
              " '_37',\n",
              " '_38',\n",
              " '_41',\n",
              " '_6',\n",
              " '_7',\n",
              " '_8',\n",
              " '_9',\n",
              " '__',\n",
              " '___',\n",
              " '__builtin__',\n",
              " '__builtins__',\n",
              " '__doc__',\n",
              " '__loader__',\n",
              " '__name__',\n",
              " '__package__',\n",
              " '__spec__',\n",
              " '_dh',\n",
              " '_i',\n",
              " '_i1',\n",
              " '_i10',\n",
              " '_i11',\n",
              " '_i12',\n",
              " '_i13',\n",
              " '_i14',\n",
              " '_i15',\n",
              " '_i16',\n",
              " '_i17',\n",
              " '_i18',\n",
              " '_i19',\n",
              " '_i2',\n",
              " '_i20',\n",
              " '_i21',\n",
              " '_i22',\n",
              " '_i23',\n",
              " '_i24',\n",
              " '_i25',\n",
              " '_i26',\n",
              " '_i27',\n",
              " '_i28',\n",
              " '_i29',\n",
              " '_i3',\n",
              " '_i30',\n",
              " '_i31',\n",
              " '_i32',\n",
              " '_i33',\n",
              " '_i34',\n",
              " '_i35',\n",
              " '_i36',\n",
              " '_i37',\n",
              " '_i38',\n",
              " '_i39',\n",
              " '_i4',\n",
              " '_i40',\n",
              " '_i41',\n",
              " '_i42',\n",
              " '_i43',\n",
              " '_i44',\n",
              " '_i45',\n",
              " '_i46',\n",
              " '_i5',\n",
              " '_i6',\n",
              " '_i7',\n",
              " '_i8',\n",
              " '_i9',\n",
              " '_ih',\n",
              " '_ii',\n",
              " '_iii',\n",
              " '_oh',\n",
              " '_sh',\n",
              " 'a',\n",
              " 'age',\n",
              " 'anthem',\n",
              " 'clean',\n",
              " 'counter',\n",
              " 'ewr_422_yY',\n",
              " 'exit',\n",
              " 'first_name',\n",
              " 'flabadab',\n",
              " 'full_name',\n",
              " 'get_ipython',\n",
              " 'i',\n",
              " 'last_name',\n",
              " 'move_me',\n",
              " 'move_me_too',\n",
              " 'mystring',\n",
              " 'poor',\n",
              " 'quit',\n",
              " 'radiance',\n",
              " 'remove',\n",
              " 'result',\n",
              " 'rich',\n",
              " 'string',\n",
              " 'unique',\n",
              " 'x']"
            ]
          },
          "metadata": {
            "tags": []
          },
          "execution_count": 46
        }
      ]
    },
    {
      "cell_type": "code",
      "metadata": {
        "id": "IYiVCN-e59xp",
        "colab_type": "code",
        "colab": {
          "base_uri": "https://localhost:8080/",
          "height": 1000
        },
        "outputId": "6e891fea-cfa8-4461-80c2-c2533d987d33"
      },
      "source": [
        "locals()"
      ],
      "execution_count": null,
      "outputs": [
        {
          "output_type": "execute_result",
          "data": {
            "text/plain": [
              "{'CoList': ['Jana gana mana adhinayaka, jaya he\\nBharata bhagya vidhata.',\n",
              "  'Punjab Sindh Gujarat Maratha \\nDravida Utkala Banga\\nVindhya Himachala Yamuna Ganga \\nUchchala Jaladhi taranga.',\n",
              "  'Tava shubha name jage, \\nTava shubha asisa mage, \\nGahe tava jaya gatha, \\nJana gana mangala dayaka jaya he \\nBharata bhagya vidhata.',\n",
              "  'Jaya he, jaya he, jaya he, Jaya jaya jaya, jaya he!'],\n",
              " 'Counter': 4,\n",
              " 'In': ['',\n",
              "  'a = 1 + 2\\nprint(a)',\n",
              "  'mystring = \"And three shall be the count.\" \\n\\nprint(mystring)',\n",
              "  \"move_me = 1\\nmove_me_too = 'abc'\",\n",
              "  'first_name = \"Pushpita\"\\nlast_name = \"Ganguly\"\\nfull_name = first_name + last_name\\nprint(full_name)',\n",
              "  'full_name = first_name + \" \" + last_name\\nprint(full_name)',\n",
              "  'full_name[1]',\n",
              "  'full_name[3]',\n",
              "  'full_name[7]',\n",
              "  'full_name[0:4]',\n",
              "  'full_name[0:5]',\n",
              "  'full_name[0:10]',\n",
              "  'full_name[:5]',\n",
              "  'full_name[5:]',\n",
              "  'full_name.upper()',\n",
              "  'print(full_name)\\nfull_name = full_name.upper()\\nprint(full_name)',\n",
              "  '* `split`\\n* `join`\\n* `replace`\\n* `strip`\\n* `find`',\n",
              "  'poem.strip(\"?\")',\n",
              "  \"print('before')\\nprint()\\nprint('after')\",\n",
              "  \"print(max(1, 2, 3))\\nprint(min('a', 'A', '0'))\",\n",
              "  \"print(max(1, 'a'))\",\n",
              "  'round(3.712)',\n",
              "  'round(3.712, 1)',\n",
              "  'help(round)',\n",
              "  \"result = print('example')\\nprint('result of print is', result)\",\n",
              "  'radiance = 1.0\\nradiance = max(2.1, 2.0 + min(radiance, 1.1 * radiance - 0.5))',\n",
              "  'radiance = 1.0\\nradiance = max(2.1, 2.0 + min(radiance, 1.1 * radiance - 0.5))\\nradiance',\n",
              "  'rich = \"gold\"\\npoor = \"tin\"\\nprint(max(rich, poor))\\nprint(max(len(rich), len(poor)))',\n",
              "  \"anthem = '''Jana gana mana adhinayaka, jaya he\\nBharata bhagya vidhata.\\n\\nPunjab Sindh Gujarat Maratha \\nDravida Utkala Banga\\nVindhya Himachala Yamuna Ganga \\nUchchala Jaladhi taranga.\\n\\nTava shubha name jage, \\nTava shubha asisa mage, \\nGahe tava jaya gatha, \\nJana gana mangala dayaka jaya he \\nBharata bhagya vidhata.\\n\\nJaya he, jaya he, jaya he, Jaya jaya jaya, jaya he!'''\",\n",
              "  'len(anthem)',\n",
              "  'CoList = anthem.split(\"\\\\n\") \\n  \\nfor i in CoList: \\n    if i: \\n        Counter += 1\\n          \\nprint(\"This is the number of lines in the file\") \\nprint(Counter) ',\n",
              "  'CoList = anthem.split(\"\\\\n\") \\ncounter = 0\\nfor i in CoList: \\n    if i: \\n        Counter += 1\\n          \\nprint(\"This is the number of lines in the file\") \\nprint(Counter) ',\n",
              "  'CoList = anthem.split(\"\\\\n\") \\nCounter = 0\\nfor i in CoList: \\n    if i: \\n        Counter += 1\\n          \\nprint(\"This is the number of lines in the file\") \\nprint(Counter) ',\n",
              "  'CoList = anthem.split(\"\\\\n\") \\nCounter = 0\\nfor i in CoList: \\n    if i: \\n        Counter += 1\\n          \\nprint(\"The number of line is: \") \\nprint(Counter) ',\n",
              "  'CoList = anthem.split(\"\\\\n\\\\n\") \\nCounter = 0\\nfor i in CoList: \\n    if i: \\n        Counter += 1\\n          \\nprint(\"The number of line is: \") \\nprint(Counter) ',\n",
              "  'CoList = anthem.split(\"\\\\n\\\\n\") \\nCounter = 0\\nfor i in CoList: \\n    if i: \\n        Counter += 1\\n          \\nprint(\"The number of stanzas is: \") \\nprint(Counter) ',\n",
              "  'unique = anthem.split()\\nx = set(unique)\\nx',\n",
              "  'unique = anthem.split()\\nx = set(unique)\\nlen(x)',\n",
              "  \"anthem = anthem.replace(',','')\\nunique = anthem.split()\\nx = set(unique)\\nlen(x)\",\n",
              "  'clean = anthem.translate(remove)\\nclean',\n",
              "  \"remove = str.maketrans('', '', string.punctuation)\\nclean = anthem.translate(remove)\\nclean\",\n",
              "  \"import string\\nremove = str.maketrans('', '', string.punctuation)\\nclean = anthem.translate(remove)\\nclean\",\n",
              "  \"age = 21\\nfirst_name = 'Pushpita'\",\n",
              "  \"print(first_name, 'is', age, 'years old')\",\n",
              "  \"flabadab = 21\\newr_422_yY = 'Pushpita'\\nprint(ewr_422_yY, 'is', flabadab, 'years old')\",\n",
              "  \"age = age + 3\\nprint('Age in three years:', age)\",\n",
              "  'dir()',\n",
              "  'locals()'],\n",
              " 'Out': {6: 'u',\n",
              "  7: 'h',\n",
              "  8: 'a',\n",
              "  9: 'Push',\n",
              "  10: 'Pushp',\n",
              "  11: 'Pushpita G',\n",
              "  12: 'Pushp',\n",
              "  13: 'ita Ganguly',\n",
              "  14: 'PUSHPITA GANGULY',\n",
              "  21: 4,\n",
              "  22: 3.7,\n",
              "  26: 2.6,\n",
              "  29: 352,\n",
              "  36: {'Banga',\n",
              "   'Bharata',\n",
              "   'Dravida',\n",
              "   'Gahe',\n",
              "   'Ganga',\n",
              "   'Gujarat',\n",
              "   'Himachala',\n",
              "   'Jaladhi',\n",
              "   'Jana',\n",
              "   'Jaya',\n",
              "   'Maratha',\n",
              "   'Punjab',\n",
              "   'Sindh',\n",
              "   'Tava',\n",
              "   'Uchchala',\n",
              "   'Utkala',\n",
              "   'Vindhya',\n",
              "   'Yamuna',\n",
              "   'adhinayaka,',\n",
              "   'asisa',\n",
              "   'bhagya',\n",
              "   'dayaka',\n",
              "   'gana',\n",
              "   'gatha,',\n",
              "   'he',\n",
              "   'he!',\n",
              "   'he,',\n",
              "   'jage,',\n",
              "   'jaya',\n",
              "   'jaya,',\n",
              "   'mage,',\n",
              "   'mana',\n",
              "   'mangala',\n",
              "   'name',\n",
              "   'shubha',\n",
              "   'taranga.',\n",
              "   'tava',\n",
              "   'vidhata.'},\n",
              "  37: 38,\n",
              "  38: 36,\n",
              "  41: 'Jana gana mana adhinayaka jaya he\\nBharata bhagya vidhata\\n\\nPunjab Sindh Gujarat Maratha \\nDravida Utkala Banga\\nVindhya Himachala Yamuna Ganga \\nUchchala Jaladhi taranga\\n\\nTava shubha name jage \\nTava shubha asisa mage \\nGahe tava jaya gatha \\nJana gana mangala dayaka jaya he \\nBharata bhagya vidhata\\n\\nJaya he jaya he jaya he Jaya jaya jaya jaya he',\n",
              "  46: ['CoList',\n",
              "   'Counter',\n",
              "   'In',\n",
              "   'Out',\n",
              "   '_',\n",
              "   '_10',\n",
              "   '_11',\n",
              "   '_12',\n",
              "   '_13',\n",
              "   '_14',\n",
              "   '_21',\n",
              "   '_22',\n",
              "   '_26',\n",
              "   '_29',\n",
              "   '_36',\n",
              "   '_37',\n",
              "   '_38',\n",
              "   '_41',\n",
              "   '_6',\n",
              "   '_7',\n",
              "   '_8',\n",
              "   '_9',\n",
              "   '__',\n",
              "   '___',\n",
              "   '__builtin__',\n",
              "   '__builtins__',\n",
              "   '__doc__',\n",
              "   '__loader__',\n",
              "   '__name__',\n",
              "   '__package__',\n",
              "   '__spec__',\n",
              "   '_dh',\n",
              "   '_i',\n",
              "   '_i1',\n",
              "   '_i10',\n",
              "   '_i11',\n",
              "   '_i12',\n",
              "   '_i13',\n",
              "   '_i14',\n",
              "   '_i15',\n",
              "   '_i16',\n",
              "   '_i17',\n",
              "   '_i18',\n",
              "   '_i19',\n",
              "   '_i2',\n",
              "   '_i20',\n",
              "   '_i21',\n",
              "   '_i22',\n",
              "   '_i23',\n",
              "   '_i24',\n",
              "   '_i25',\n",
              "   '_i26',\n",
              "   '_i27',\n",
              "   '_i28',\n",
              "   '_i29',\n",
              "   '_i3',\n",
              "   '_i30',\n",
              "   '_i31',\n",
              "   '_i32',\n",
              "   '_i33',\n",
              "   '_i34',\n",
              "   '_i35',\n",
              "   '_i36',\n",
              "   '_i37',\n",
              "   '_i38',\n",
              "   '_i39',\n",
              "   '_i4',\n",
              "   '_i40',\n",
              "   '_i41',\n",
              "   '_i42',\n",
              "   '_i43',\n",
              "   '_i44',\n",
              "   '_i45',\n",
              "   '_i46',\n",
              "   '_i5',\n",
              "   '_i6',\n",
              "   '_i7',\n",
              "   '_i8',\n",
              "   '_i9',\n",
              "   '_ih',\n",
              "   '_ii',\n",
              "   '_iii',\n",
              "   '_oh',\n",
              "   '_sh',\n",
              "   'a',\n",
              "   'age',\n",
              "   'anthem',\n",
              "   'clean',\n",
              "   'counter',\n",
              "   'ewr_422_yY',\n",
              "   'exit',\n",
              "   'first_name',\n",
              "   'flabadab',\n",
              "   'full_name',\n",
              "   'get_ipython',\n",
              "   'i',\n",
              "   'last_name',\n",
              "   'move_me',\n",
              "   'move_me_too',\n",
              "   'mystring',\n",
              "   'poor',\n",
              "   'quit',\n",
              "   'radiance',\n",
              "   'remove',\n",
              "   'result',\n",
              "   'rich',\n",
              "   'string',\n",
              "   'unique',\n",
              "   'x']},\n",
              " '_': ['CoList',\n",
              "  'Counter',\n",
              "  'In',\n",
              "  'Out',\n",
              "  '_',\n",
              "  '_10',\n",
              "  '_11',\n",
              "  '_12',\n",
              "  '_13',\n",
              "  '_14',\n",
              "  '_21',\n",
              "  '_22',\n",
              "  '_26',\n",
              "  '_29',\n",
              "  '_36',\n",
              "  '_37',\n",
              "  '_38',\n",
              "  '_41',\n",
              "  '_6',\n",
              "  '_7',\n",
              "  '_8',\n",
              "  '_9',\n",
              "  '__',\n",
              "  '___',\n",
              "  '__builtin__',\n",
              "  '__builtins__',\n",
              "  '__doc__',\n",
              "  '__loader__',\n",
              "  '__name__',\n",
              "  '__package__',\n",
              "  '__spec__',\n",
              "  '_dh',\n",
              "  '_i',\n",
              "  '_i1',\n",
              "  '_i10',\n",
              "  '_i11',\n",
              "  '_i12',\n",
              "  '_i13',\n",
              "  '_i14',\n",
              "  '_i15',\n",
              "  '_i16',\n",
              "  '_i17',\n",
              "  '_i18',\n",
              "  '_i19',\n",
              "  '_i2',\n",
              "  '_i20',\n",
              "  '_i21',\n",
              "  '_i22',\n",
              "  '_i23',\n",
              "  '_i24',\n",
              "  '_i25',\n",
              "  '_i26',\n",
              "  '_i27',\n",
              "  '_i28',\n",
              "  '_i29',\n",
              "  '_i3',\n",
              "  '_i30',\n",
              "  '_i31',\n",
              "  '_i32',\n",
              "  '_i33',\n",
              "  '_i34',\n",
              "  '_i35',\n",
              "  '_i36',\n",
              "  '_i37',\n",
              "  '_i38',\n",
              "  '_i39',\n",
              "  '_i4',\n",
              "  '_i40',\n",
              "  '_i41',\n",
              "  '_i42',\n",
              "  '_i43',\n",
              "  '_i44',\n",
              "  '_i45',\n",
              "  '_i46',\n",
              "  '_i5',\n",
              "  '_i6',\n",
              "  '_i7',\n",
              "  '_i8',\n",
              "  '_i9',\n",
              "  '_ih',\n",
              "  '_ii',\n",
              "  '_iii',\n",
              "  '_oh',\n",
              "  '_sh',\n",
              "  'a',\n",
              "  'age',\n",
              "  'anthem',\n",
              "  'clean',\n",
              "  'counter',\n",
              "  'ewr_422_yY',\n",
              "  'exit',\n",
              "  'first_name',\n",
              "  'flabadab',\n",
              "  'full_name',\n",
              "  'get_ipython',\n",
              "  'i',\n",
              "  'last_name',\n",
              "  'move_me',\n",
              "  'move_me_too',\n",
              "  'mystring',\n",
              "  'poor',\n",
              "  'quit',\n",
              "  'radiance',\n",
              "  'remove',\n",
              "  'result',\n",
              "  'rich',\n",
              "  'string',\n",
              "  'unique',\n",
              "  'x'],\n",
              " '_10': 'Pushp',\n",
              " '_11': 'Pushpita G',\n",
              " '_12': 'Pushp',\n",
              " '_13': 'ita Ganguly',\n",
              " '_14': 'PUSHPITA GANGULY',\n",
              " '_21': 4,\n",
              " '_22': 3.7,\n",
              " '_26': 2.6,\n",
              " '_29': 352,\n",
              " '_36': {'Banga',\n",
              "  'Bharata',\n",
              "  'Dravida',\n",
              "  'Gahe',\n",
              "  'Ganga',\n",
              "  'Gujarat',\n",
              "  'Himachala',\n",
              "  'Jaladhi',\n",
              "  'Jana',\n",
              "  'Jaya',\n",
              "  'Maratha',\n",
              "  'Punjab',\n",
              "  'Sindh',\n",
              "  'Tava',\n",
              "  'Uchchala',\n",
              "  'Utkala',\n",
              "  'Vindhya',\n",
              "  'Yamuna',\n",
              "  'adhinayaka,',\n",
              "  'asisa',\n",
              "  'bhagya',\n",
              "  'dayaka',\n",
              "  'gana',\n",
              "  'gatha,',\n",
              "  'he',\n",
              "  'he!',\n",
              "  'he,',\n",
              "  'jage,',\n",
              "  'jaya',\n",
              "  'jaya,',\n",
              "  'mage,',\n",
              "  'mana',\n",
              "  'mangala',\n",
              "  'name',\n",
              "  'shubha',\n",
              "  'taranga.',\n",
              "  'tava',\n",
              "  'vidhata.'},\n",
              " '_37': 38,\n",
              " '_38': 36,\n",
              " '_41': 'Jana gana mana adhinayaka jaya he\\nBharata bhagya vidhata\\n\\nPunjab Sindh Gujarat Maratha \\nDravida Utkala Banga\\nVindhya Himachala Yamuna Ganga \\nUchchala Jaladhi taranga\\n\\nTava shubha name jage \\nTava shubha asisa mage \\nGahe tava jaya gatha \\nJana gana mangala dayaka jaya he \\nBharata bhagya vidhata\\n\\nJaya he jaya he jaya he Jaya jaya jaya jaya he',\n",
              " '_46': ['CoList',\n",
              "  'Counter',\n",
              "  'In',\n",
              "  'Out',\n",
              "  '_',\n",
              "  '_10',\n",
              "  '_11',\n",
              "  '_12',\n",
              "  '_13',\n",
              "  '_14',\n",
              "  '_21',\n",
              "  '_22',\n",
              "  '_26',\n",
              "  '_29',\n",
              "  '_36',\n",
              "  '_37',\n",
              "  '_38',\n",
              "  '_41',\n",
              "  '_6',\n",
              "  '_7',\n",
              "  '_8',\n",
              "  '_9',\n",
              "  '__',\n",
              "  '___',\n",
              "  '__builtin__',\n",
              "  '__builtins__',\n",
              "  '__doc__',\n",
              "  '__loader__',\n",
              "  '__name__',\n",
              "  '__package__',\n",
              "  '__spec__',\n",
              "  '_dh',\n",
              "  '_i',\n",
              "  '_i1',\n",
              "  '_i10',\n",
              "  '_i11',\n",
              "  '_i12',\n",
              "  '_i13',\n",
              "  '_i14',\n",
              "  '_i15',\n",
              "  '_i16',\n",
              "  '_i17',\n",
              "  '_i18',\n",
              "  '_i19',\n",
              "  '_i2',\n",
              "  '_i20',\n",
              "  '_i21',\n",
              "  '_i22',\n",
              "  '_i23',\n",
              "  '_i24',\n",
              "  '_i25',\n",
              "  '_i26',\n",
              "  '_i27',\n",
              "  '_i28',\n",
              "  '_i29',\n",
              "  '_i3',\n",
              "  '_i30',\n",
              "  '_i31',\n",
              "  '_i32',\n",
              "  '_i33',\n",
              "  '_i34',\n",
              "  '_i35',\n",
              "  '_i36',\n",
              "  '_i37',\n",
              "  '_i38',\n",
              "  '_i39',\n",
              "  '_i4',\n",
              "  '_i40',\n",
              "  '_i41',\n",
              "  '_i42',\n",
              "  '_i43',\n",
              "  '_i44',\n",
              "  '_i45',\n",
              "  '_i46',\n",
              "  '_i5',\n",
              "  '_i6',\n",
              "  '_i7',\n",
              "  '_i8',\n",
              "  '_i9',\n",
              "  '_ih',\n",
              "  '_ii',\n",
              "  '_iii',\n",
              "  '_oh',\n",
              "  '_sh',\n",
              "  'a',\n",
              "  'age',\n",
              "  'anthem',\n",
              "  'clean',\n",
              "  'counter',\n",
              "  'ewr_422_yY',\n",
              "  'exit',\n",
              "  'first_name',\n",
              "  'flabadab',\n",
              "  'full_name',\n",
              "  'get_ipython',\n",
              "  'i',\n",
              "  'last_name',\n",
              "  'move_me',\n",
              "  'move_me_too',\n",
              "  'mystring',\n",
              "  'poor',\n",
              "  'quit',\n",
              "  'radiance',\n",
              "  'remove',\n",
              "  'result',\n",
              "  'rich',\n",
              "  'string',\n",
              "  'unique',\n",
              "  'x'],\n",
              " '_6': 'u',\n",
              " '_7': 'h',\n",
              " '_8': 'a',\n",
              " '_9': 'Push',\n",
              " '__': 'Jana gana mana adhinayaka jaya he\\nBharata bhagya vidhata\\n\\nPunjab Sindh Gujarat Maratha \\nDravida Utkala Banga\\nVindhya Himachala Yamuna Ganga \\nUchchala Jaladhi taranga\\n\\nTava shubha name jage \\nTava shubha asisa mage \\nGahe tava jaya gatha \\nJana gana mangala dayaka jaya he \\nBharata bhagya vidhata\\n\\nJaya he jaya he jaya he Jaya jaya jaya jaya he',\n",
              " '___': 36,\n",
              " '__builtin__': <module 'builtins' (built-in)>,\n",
              " '__builtins__': <module 'builtins' (built-in)>,\n",
              " '__doc__': 'Automatically created module for IPython interactive environment',\n",
              " '__loader__': None,\n",
              " '__name__': '__main__',\n",
              " '__package__': None,\n",
              " '__spec__': None,\n",
              " '_dh': ['/content'],\n",
              " '_i': 'dir()',\n",
              " '_i1': 'a = 1 + 2\\nprint(a)',\n",
              " '_i10': 'full_name[0:5]',\n",
              " '_i11': 'full_name[0:10]',\n",
              " '_i12': 'full_name[:5]',\n",
              " '_i13': 'full_name[5:]',\n",
              " '_i14': 'full_name.upper()',\n",
              " '_i15': 'print(full_name)\\nfull_name = full_name.upper()\\nprint(full_name)',\n",
              " '_i16': '* `split`\\n* `join`\\n* `replace`\\n* `strip`\\n* `find`',\n",
              " '_i17': 'poem.strip(\"?\")',\n",
              " '_i18': \"print('before')\\nprint()\\nprint('after')\",\n",
              " '_i19': \"print(max(1, 2, 3))\\nprint(min('a', 'A', '0'))\",\n",
              " '_i2': 'mystring = \"And three shall be the count.\" \\n\\nprint(mystring)',\n",
              " '_i20': \"print(max(1, 'a'))\",\n",
              " '_i21': 'round(3.712)',\n",
              " '_i22': 'round(3.712, 1)',\n",
              " '_i23': 'help(round)',\n",
              " '_i24': \"result = print('example')\\nprint('result of print is', result)\",\n",
              " '_i25': 'radiance = 1.0\\nradiance = max(2.1, 2.0 + min(radiance, 1.1 * radiance - 0.5))',\n",
              " '_i26': 'radiance = 1.0\\nradiance = max(2.1, 2.0 + min(radiance, 1.1 * radiance - 0.5))\\nradiance',\n",
              " '_i27': 'rich = \"gold\"\\npoor = \"tin\"\\nprint(max(rich, poor))\\nprint(max(len(rich), len(poor)))',\n",
              " '_i28': \"anthem = '''Jana gana mana adhinayaka, jaya he\\nBharata bhagya vidhata.\\n\\nPunjab Sindh Gujarat Maratha \\nDravida Utkala Banga\\nVindhya Himachala Yamuna Ganga \\nUchchala Jaladhi taranga.\\n\\nTava shubha name jage, \\nTava shubha asisa mage, \\nGahe tava jaya gatha, \\nJana gana mangala dayaka jaya he \\nBharata bhagya vidhata.\\n\\nJaya he, jaya he, jaya he, Jaya jaya jaya, jaya he!'''\",\n",
              " '_i29': 'len(anthem)',\n",
              " '_i3': \"move_me = 1\\nmove_me_too = 'abc'\",\n",
              " '_i30': 'CoList = anthem.split(\"\\\\n\") \\n  \\nfor i in CoList: \\n    if i: \\n        Counter += 1\\n          \\nprint(\"This is the number of lines in the file\") \\nprint(Counter) ',\n",
              " '_i31': 'CoList = anthem.split(\"\\\\n\") \\ncounter = 0\\nfor i in CoList: \\n    if i: \\n        Counter += 1\\n          \\nprint(\"This is the number of lines in the file\") \\nprint(Counter) ',\n",
              " '_i32': 'CoList = anthem.split(\"\\\\n\") \\nCounter = 0\\nfor i in CoList: \\n    if i: \\n        Counter += 1\\n          \\nprint(\"This is the number of lines in the file\") \\nprint(Counter) ',\n",
              " '_i33': 'CoList = anthem.split(\"\\\\n\") \\nCounter = 0\\nfor i in CoList: \\n    if i: \\n        Counter += 1\\n          \\nprint(\"The number of line is: \") \\nprint(Counter) ',\n",
              " '_i34': 'CoList = anthem.split(\"\\\\n\\\\n\") \\nCounter = 0\\nfor i in CoList: \\n    if i: \\n        Counter += 1\\n          \\nprint(\"The number of line is: \") \\nprint(Counter) ',\n",
              " '_i35': 'CoList = anthem.split(\"\\\\n\\\\n\") \\nCounter = 0\\nfor i in CoList: \\n    if i: \\n        Counter += 1\\n          \\nprint(\"The number of stanzas is: \") \\nprint(Counter) ',\n",
              " '_i36': 'unique = anthem.split()\\nx = set(unique)\\nx',\n",
              " '_i37': 'unique = anthem.split()\\nx = set(unique)\\nlen(x)',\n",
              " '_i38': \"anthem = anthem.replace(',','')\\nunique = anthem.split()\\nx = set(unique)\\nlen(x)\",\n",
              " '_i39': 'clean = anthem.translate(remove)\\nclean',\n",
              " '_i4': 'first_name = \"Pushpita\"\\nlast_name = \"Ganguly\"\\nfull_name = first_name + last_name\\nprint(full_name)',\n",
              " '_i40': \"remove = str.maketrans('', '', string.punctuation)\\nclean = anthem.translate(remove)\\nclean\",\n",
              " '_i41': \"import string\\nremove = str.maketrans('', '', string.punctuation)\\nclean = anthem.translate(remove)\\nclean\",\n",
              " '_i42': \"age = 21\\nfirst_name = 'Pushpita'\",\n",
              " '_i43': \"print(first_name, 'is', age, 'years old')\",\n",
              " '_i44': \"flabadab = 21\\newr_422_yY = 'Pushpita'\\nprint(ewr_422_yY, 'is', flabadab, 'years old')\",\n",
              " '_i45': \"age = age + 3\\nprint('Age in three years:', age)\",\n",
              " '_i46': 'dir()',\n",
              " '_i47': 'locals()',\n",
              " '_i5': 'full_name = first_name + \" \" + last_name\\nprint(full_name)',\n",
              " '_i6': 'full_name[1]',\n",
              " '_i7': 'full_name[3]',\n",
              " '_i8': 'full_name[7]',\n",
              " '_i9': 'full_name[0:4]',\n",
              " '_ih': ['',\n",
              "  'a = 1 + 2\\nprint(a)',\n",
              "  'mystring = \"And three shall be the count.\" \\n\\nprint(mystring)',\n",
              "  \"move_me = 1\\nmove_me_too = 'abc'\",\n",
              "  'first_name = \"Pushpita\"\\nlast_name = \"Ganguly\"\\nfull_name = first_name + last_name\\nprint(full_name)',\n",
              "  'full_name = first_name + \" \" + last_name\\nprint(full_name)',\n",
              "  'full_name[1]',\n",
              "  'full_name[3]',\n",
              "  'full_name[7]',\n",
              "  'full_name[0:4]',\n",
              "  'full_name[0:5]',\n",
              "  'full_name[0:10]',\n",
              "  'full_name[:5]',\n",
              "  'full_name[5:]',\n",
              "  'full_name.upper()',\n",
              "  'print(full_name)\\nfull_name = full_name.upper()\\nprint(full_name)',\n",
              "  '* `split`\\n* `join`\\n* `replace`\\n* `strip`\\n* `find`',\n",
              "  'poem.strip(\"?\")',\n",
              "  \"print('before')\\nprint()\\nprint('after')\",\n",
              "  \"print(max(1, 2, 3))\\nprint(min('a', 'A', '0'))\",\n",
              "  \"print(max(1, 'a'))\",\n",
              "  'round(3.712)',\n",
              "  'round(3.712, 1)',\n",
              "  'help(round)',\n",
              "  \"result = print('example')\\nprint('result of print is', result)\",\n",
              "  'radiance = 1.0\\nradiance = max(2.1, 2.0 + min(radiance, 1.1 * radiance - 0.5))',\n",
              "  'radiance = 1.0\\nradiance = max(2.1, 2.0 + min(radiance, 1.1 * radiance - 0.5))\\nradiance',\n",
              "  'rich = \"gold\"\\npoor = \"tin\"\\nprint(max(rich, poor))\\nprint(max(len(rich), len(poor)))',\n",
              "  \"anthem = '''Jana gana mana adhinayaka, jaya he\\nBharata bhagya vidhata.\\n\\nPunjab Sindh Gujarat Maratha \\nDravida Utkala Banga\\nVindhya Himachala Yamuna Ganga \\nUchchala Jaladhi taranga.\\n\\nTava shubha name jage, \\nTava shubha asisa mage, \\nGahe tava jaya gatha, \\nJana gana mangala dayaka jaya he \\nBharata bhagya vidhata.\\n\\nJaya he, jaya he, jaya he, Jaya jaya jaya, jaya he!'''\",\n",
              "  'len(anthem)',\n",
              "  'CoList = anthem.split(\"\\\\n\") \\n  \\nfor i in CoList: \\n    if i: \\n        Counter += 1\\n          \\nprint(\"This is the number of lines in the file\") \\nprint(Counter) ',\n",
              "  'CoList = anthem.split(\"\\\\n\") \\ncounter = 0\\nfor i in CoList: \\n    if i: \\n        Counter += 1\\n          \\nprint(\"This is the number of lines in the file\") \\nprint(Counter) ',\n",
              "  'CoList = anthem.split(\"\\\\n\") \\nCounter = 0\\nfor i in CoList: \\n    if i: \\n        Counter += 1\\n          \\nprint(\"This is the number of lines in the file\") \\nprint(Counter) ',\n",
              "  'CoList = anthem.split(\"\\\\n\") \\nCounter = 0\\nfor i in CoList: \\n    if i: \\n        Counter += 1\\n          \\nprint(\"The number of line is: \") \\nprint(Counter) ',\n",
              "  'CoList = anthem.split(\"\\\\n\\\\n\") \\nCounter = 0\\nfor i in CoList: \\n    if i: \\n        Counter += 1\\n          \\nprint(\"The number of line is: \") \\nprint(Counter) ',\n",
              "  'CoList = anthem.split(\"\\\\n\\\\n\") \\nCounter = 0\\nfor i in CoList: \\n    if i: \\n        Counter += 1\\n          \\nprint(\"The number of stanzas is: \") \\nprint(Counter) ',\n",
              "  'unique = anthem.split()\\nx = set(unique)\\nx',\n",
              "  'unique = anthem.split()\\nx = set(unique)\\nlen(x)',\n",
              "  \"anthem = anthem.replace(',','')\\nunique = anthem.split()\\nx = set(unique)\\nlen(x)\",\n",
              "  'clean = anthem.translate(remove)\\nclean',\n",
              "  \"remove = str.maketrans('', '', string.punctuation)\\nclean = anthem.translate(remove)\\nclean\",\n",
              "  \"import string\\nremove = str.maketrans('', '', string.punctuation)\\nclean = anthem.translate(remove)\\nclean\",\n",
              "  \"age = 21\\nfirst_name = 'Pushpita'\",\n",
              "  \"print(first_name, 'is', age, 'years old')\",\n",
              "  \"flabadab = 21\\newr_422_yY = 'Pushpita'\\nprint(ewr_422_yY, 'is', flabadab, 'years old')\",\n",
              "  \"age = age + 3\\nprint('Age in three years:', age)\",\n",
              "  'dir()',\n",
              "  'locals()'],\n",
              " '_ii': \"age = age + 3\\nprint('Age in three years:', age)\",\n",
              " '_iii': \"flabadab = 21\\newr_422_yY = 'Pushpita'\\nprint(ewr_422_yY, 'is', flabadab, 'years old')\",\n",
              " '_oh': {6: 'u',\n",
              "  7: 'h',\n",
              "  8: 'a',\n",
              "  9: 'Push',\n",
              "  10: 'Pushp',\n",
              "  11: 'Pushpita G',\n",
              "  12: 'Pushp',\n",
              "  13: 'ita Ganguly',\n",
              "  14: 'PUSHPITA GANGULY',\n",
              "  21: 4,\n",
              "  22: 3.7,\n",
              "  26: 2.6,\n",
              "  29: 352,\n",
              "  36: {'Banga',\n",
              "   'Bharata',\n",
              "   'Dravida',\n",
              "   'Gahe',\n",
              "   'Ganga',\n",
              "   'Gujarat',\n",
              "   'Himachala',\n",
              "   'Jaladhi',\n",
              "   'Jana',\n",
              "   'Jaya',\n",
              "   'Maratha',\n",
              "   'Punjab',\n",
              "   'Sindh',\n",
              "   'Tava',\n",
              "   'Uchchala',\n",
              "   'Utkala',\n",
              "   'Vindhya',\n",
              "   'Yamuna',\n",
              "   'adhinayaka,',\n",
              "   'asisa',\n",
              "   'bhagya',\n",
              "   'dayaka',\n",
              "   'gana',\n",
              "   'gatha,',\n",
              "   'he',\n",
              "   'he!',\n",
              "   'he,',\n",
              "   'jage,',\n",
              "   'jaya',\n",
              "   'jaya,',\n",
              "   'mage,',\n",
              "   'mana',\n",
              "   'mangala',\n",
              "   'name',\n",
              "   'shubha',\n",
              "   'taranga.',\n",
              "   'tava',\n",
              "   'vidhata.'},\n",
              "  37: 38,\n",
              "  38: 36,\n",
              "  41: 'Jana gana mana adhinayaka jaya he\\nBharata bhagya vidhata\\n\\nPunjab Sindh Gujarat Maratha \\nDravida Utkala Banga\\nVindhya Himachala Yamuna Ganga \\nUchchala Jaladhi taranga\\n\\nTava shubha name jage \\nTava shubha asisa mage \\nGahe tava jaya gatha \\nJana gana mangala dayaka jaya he \\nBharata bhagya vidhata\\n\\nJaya he jaya he jaya he Jaya jaya jaya jaya he',\n",
              "  46: ['CoList',\n",
              "   'Counter',\n",
              "   'In',\n",
              "   'Out',\n",
              "   '_',\n",
              "   '_10',\n",
              "   '_11',\n",
              "   '_12',\n",
              "   '_13',\n",
              "   '_14',\n",
              "   '_21',\n",
              "   '_22',\n",
              "   '_26',\n",
              "   '_29',\n",
              "   '_36',\n",
              "   '_37',\n",
              "   '_38',\n",
              "   '_41',\n",
              "   '_6',\n",
              "   '_7',\n",
              "   '_8',\n",
              "   '_9',\n",
              "   '__',\n",
              "   '___',\n",
              "   '__builtin__',\n",
              "   '__builtins__',\n",
              "   '__doc__',\n",
              "   '__loader__',\n",
              "   '__name__',\n",
              "   '__package__',\n",
              "   '__spec__',\n",
              "   '_dh',\n",
              "   '_i',\n",
              "   '_i1',\n",
              "   '_i10',\n",
              "   '_i11',\n",
              "   '_i12',\n",
              "   '_i13',\n",
              "   '_i14',\n",
              "   '_i15',\n",
              "   '_i16',\n",
              "   '_i17',\n",
              "   '_i18',\n",
              "   '_i19',\n",
              "   '_i2',\n",
              "   '_i20',\n",
              "   '_i21',\n",
              "   '_i22',\n",
              "   '_i23',\n",
              "   '_i24',\n",
              "   '_i25',\n",
              "   '_i26',\n",
              "   '_i27',\n",
              "   '_i28',\n",
              "   '_i29',\n",
              "   '_i3',\n",
              "   '_i30',\n",
              "   '_i31',\n",
              "   '_i32',\n",
              "   '_i33',\n",
              "   '_i34',\n",
              "   '_i35',\n",
              "   '_i36',\n",
              "   '_i37',\n",
              "   '_i38',\n",
              "   '_i39',\n",
              "   '_i4',\n",
              "   '_i40',\n",
              "   '_i41',\n",
              "   '_i42',\n",
              "   '_i43',\n",
              "   '_i44',\n",
              "   '_i45',\n",
              "   '_i46',\n",
              "   '_i5',\n",
              "   '_i6',\n",
              "   '_i7',\n",
              "   '_i8',\n",
              "   '_i9',\n",
              "   '_ih',\n",
              "   '_ii',\n",
              "   '_iii',\n",
              "   '_oh',\n",
              "   '_sh',\n",
              "   'a',\n",
              "   'age',\n",
              "   'anthem',\n",
              "   'clean',\n",
              "   'counter',\n",
              "   'ewr_422_yY',\n",
              "   'exit',\n",
              "   'first_name',\n",
              "   'flabadab',\n",
              "   'full_name',\n",
              "   'get_ipython',\n",
              "   'i',\n",
              "   'last_name',\n",
              "   'move_me',\n",
              "   'move_me_too',\n",
              "   'mystring',\n",
              "   'poor',\n",
              "   'quit',\n",
              "   'radiance',\n",
              "   'remove',\n",
              "   'result',\n",
              "   'rich',\n",
              "   'string',\n",
              "   'unique',\n",
              "   'x']},\n",
              " '_sh': <module 'IPython.core.shadowns' from '/usr/local/lib/python3.6/dist-packages/IPython/core/shadowns.py'>,\n",
              " 'a': 3,\n",
              " 'age': 24,\n",
              " 'anthem': 'Jana gana mana adhinayaka jaya he\\nBharata bhagya vidhata.\\n\\nPunjab Sindh Gujarat Maratha \\nDravida Utkala Banga\\nVindhya Himachala Yamuna Ganga \\nUchchala Jaladhi taranga.\\n\\nTava shubha name jage \\nTava shubha asisa mage \\nGahe tava jaya gatha \\nJana gana mangala dayaka jaya he \\nBharata bhagya vidhata.\\n\\nJaya he jaya he jaya he Jaya jaya jaya jaya he!',\n",
              " 'clean': 'Jana gana mana adhinayaka jaya he\\nBharata bhagya vidhata\\n\\nPunjab Sindh Gujarat Maratha \\nDravida Utkala Banga\\nVindhya Himachala Yamuna Ganga \\nUchchala Jaladhi taranga\\n\\nTava shubha name jage \\nTava shubha asisa mage \\nGahe tava jaya gatha \\nJana gana mangala dayaka jaya he \\nBharata bhagya vidhata\\n\\nJaya he jaya he jaya he Jaya jaya jaya jaya he',\n",
              " 'counter': 0,\n",
              " 'ewr_422_yY': 'Pushpita',\n",
              " 'exit': <IPython.core.autocall.ZMQExitAutocall at 0x7ff7fb144e48>,\n",
              " 'first_name': 'Pushpita',\n",
              " 'flabadab': 21,\n",
              " 'full_name': 'PUSHPITA GANGULY',\n",
              " 'get_ipython': <bound method InteractiveShell.get_ipython of <google.colab._shell.Shell object at 0x7ff7fb38be10>>,\n",
              " 'i': 'Jaya he, jaya he, jaya he, Jaya jaya jaya, jaya he!',\n",
              " 'last_name': 'Ganguly',\n",
              " 'move_me': 1,\n",
              " 'move_me_too': 'abc',\n",
              " 'mystring': 'And three shall be the count.',\n",
              " 'poor': 'tin',\n",
              " 'quit': <IPython.core.autocall.ZMQExitAutocall at 0x7ff7fb144e48>,\n",
              " 'radiance': 2.6,\n",
              " 'remove': {33: None,\n",
              "  34: None,\n",
              "  35: None,\n",
              "  36: None,\n",
              "  37: None,\n",
              "  38: None,\n",
              "  39: None,\n",
              "  40: None,\n",
              "  41: None,\n",
              "  42: None,\n",
              "  43: None,\n",
              "  44: None,\n",
              "  45: None,\n",
              "  46: None,\n",
              "  47: None,\n",
              "  58: None,\n",
              "  59: None,\n",
              "  60: None,\n",
              "  61: None,\n",
              "  62: None,\n",
              "  63: None,\n",
              "  64: None,\n",
              "  91: None,\n",
              "  92: None,\n",
              "  93: None,\n",
              "  94: None,\n",
              "  95: None,\n",
              "  96: None,\n",
              "  123: None,\n",
              "  124: None,\n",
              "  125: None,\n",
              "  126: None},\n",
              " 'result': None,\n",
              " 'rich': 'gold',\n",
              " 'string': <module 'string' from '/usr/lib/python3.6/string.py'>,\n",
              " 'unique': ['Jana',\n",
              "  'gana',\n",
              "  'mana',\n",
              "  'adhinayaka',\n",
              "  'jaya',\n",
              "  'he',\n",
              "  'Bharata',\n",
              "  'bhagya',\n",
              "  'vidhata.',\n",
              "  'Punjab',\n",
              "  'Sindh',\n",
              "  'Gujarat',\n",
              "  'Maratha',\n",
              "  'Dravida',\n",
              "  'Utkala',\n",
              "  'Banga',\n",
              "  'Vindhya',\n",
              "  'Himachala',\n",
              "  'Yamuna',\n",
              "  'Ganga',\n",
              "  'Uchchala',\n",
              "  'Jaladhi',\n",
              "  'taranga.',\n",
              "  'Tava',\n",
              "  'shubha',\n",
              "  'name',\n",
              "  'jage',\n",
              "  'Tava',\n",
              "  'shubha',\n",
              "  'asisa',\n",
              "  'mage',\n",
              "  'Gahe',\n",
              "  'tava',\n",
              "  'jaya',\n",
              "  'gatha',\n",
              "  'Jana',\n",
              "  'gana',\n",
              "  'mangala',\n",
              "  'dayaka',\n",
              "  'jaya',\n",
              "  'he',\n",
              "  'Bharata',\n",
              "  'bhagya',\n",
              "  'vidhata.',\n",
              "  'Jaya',\n",
              "  'he',\n",
              "  'jaya',\n",
              "  'he',\n",
              "  'jaya',\n",
              "  'he',\n",
              "  'Jaya',\n",
              "  'jaya',\n",
              "  'jaya',\n",
              "  'jaya',\n",
              "  'he!'],\n",
              " 'x': {'Banga',\n",
              "  'Bharata',\n",
              "  'Dravida',\n",
              "  'Gahe',\n",
              "  'Ganga',\n",
              "  'Gujarat',\n",
              "  'Himachala',\n",
              "  'Jaladhi',\n",
              "  'Jana',\n",
              "  'Jaya',\n",
              "  'Maratha',\n",
              "  'Punjab',\n",
              "  'Sindh',\n",
              "  'Tava',\n",
              "  'Uchchala',\n",
              "  'Utkala',\n",
              "  'Vindhya',\n",
              "  'Yamuna',\n",
              "  'adhinayaka',\n",
              "  'asisa',\n",
              "  'bhagya',\n",
              "  'dayaka',\n",
              "  'gana',\n",
              "  'gatha',\n",
              "  'he',\n",
              "  'he!',\n",
              "  'jage',\n",
              "  'jaya',\n",
              "  'mage',\n",
              "  'mana',\n",
              "  'mangala',\n",
              "  'name',\n",
              "  'shubha',\n",
              "  'taranga.',\n",
              "  'tava',\n",
              "  'vidhata.'}}"
            ]
          },
          "metadata": {
            "tags": []
          },
          "execution_count": 47
        }
      ]
    },
    {
      "cell_type": "code",
      "metadata": {
        "id": "2ldeO48R59xy",
        "colab_type": "code",
        "colab": {
          "base_uri": "https://localhost:8080/",
          "height": 50
        },
        "outputId": "ab9aff09-01bb-40c0-b584-4ddd1b673952"
      },
      "source": [
        "lowest = 1.0\n",
        "highest = 3.0\n",
        "temp = lowest\n",
        "lowest = highest\n",
        "highest = temp\n",
        "print(lowest)\n",
        "print(highest)"
      ],
      "execution_count": null,
      "outputs": [
        {
          "output_type": "stream",
          "text": [
            "3.0\n",
            "1.0\n"
          ],
          "name": "stdout"
        }
      ]
    },
    {
      "cell_type": "code",
      "metadata": {
        "id": "FyNiwSYK59x8",
        "colab_type": "code",
        "colab": {
          "base_uri": "https://localhost:8080/",
          "height": 50
        },
        "outputId": "fba3206f-46b6-460a-8254-d90073c023fe"
      },
      "source": [
        "initial = \"left\"\n",
        "position = initial\n",
        "initial = \"right\"\n",
        "print(initial)\n",
        "print(position)"
      ],
      "execution_count": null,
      "outputs": [
        {
          "output_type": "stream",
          "text": [
            "right\n",
            "left\n"
          ],
          "name": "stdout"
        }
      ]
    },
    {
      "cell_type": "code",
      "metadata": {
        "id": "tZeU9ub_59yB",
        "colab_type": "code",
        "colab": {
          "base_uri": "https://localhost:8080/",
          "height": 34
        },
        "outputId": "f98dbec5-4e3b-4241-ce6d-7da8404f5909"
      },
      "source": [
        "age == 31"
      ],
      "execution_count": null,
      "outputs": [
        {
          "output_type": "execute_result",
          "data": {
            "text/plain": [
              "False"
            ]
          },
          "metadata": {
            "tags": []
          },
          "execution_count": 50
        }
      ]
    },
    {
      "cell_type": "code",
      "metadata": {
        "id": "rl9y4YbVKnE8",
        "colab_type": "code",
        "colab": {
          "base_uri": "https://localhost:8080/",
          "height": 130
        },
        "outputId": "ab83d571-b0d8-4010-debb-1cb0c6b477c9"
      },
      "source": [
        "31 = age"
      ],
      "execution_count": null,
      "outputs": [
        {
          "output_type": "error",
          "ename": "SyntaxError",
          "evalue": "ignored",
          "traceback": [
            "\u001b[0;36m  File \u001b[0;32m\"<ipython-input-51-b781bc34195b>\"\u001b[0;36m, line \u001b[0;32m1\u001b[0m\n\u001b[0;31m    31 = age\u001b[0m\n\u001b[0m            ^\u001b[0m\n\u001b[0;31mSyntaxError\u001b[0m\u001b[0;31m:\u001b[0m can't assign to literal\n"
          ]
        }
      ]
    },
    {
      "cell_type": "code",
      "metadata": {
        "id": "0YhzSBT7KsQN",
        "colab_type": "code",
        "colab": {
          "base_uri": "https://localhost:8080/",
          "height": 34
        },
        "outputId": "a40333f0-3c4f-4edf-a7f7-b404f29c1998"
      },
      "source": [
        "age = 31\n",
        "age"
      ],
      "execution_count": null,
      "outputs": [
        {
          "output_type": "execute_result",
          "data": {
            "text/plain": [
              "31"
            ]
          },
          "metadata": {
            "tags": []
          },
          "execution_count": 53
        }
      ]
    },
    {
      "cell_type": "code",
      "metadata": {
        "id": "ojs3ymzTKzEE",
        "colab_type": "code",
        "colab": {
          "base_uri": "https://localhost:8080/",
          "height": 34
        },
        "outputId": "5fd37010-f9c0-4130-f92d-952aadbe4aff"
      },
      "source": [
        "age == 31"
      ],
      "execution_count": null,
      "outputs": [
        {
          "output_type": "execute_result",
          "data": {
            "text/plain": [
              "True"
            ]
          },
          "metadata": {
            "tags": []
          },
          "execution_count": 54
        }
      ]
    },
    {
      "cell_type": "code",
      "metadata": {
        "id": "UfD_trrj6N8u",
        "colab_type": "code",
        "colab": {
          "base_uri": "https://localhost:8080/",
          "height": 34
        },
        "outputId": "600f62c9-9c8d-4ed5-99d6-98acc15052c9"
      },
      "source": [
        "print(type(52))"
      ],
      "execution_count": null,
      "outputs": [
        {
          "output_type": "stream",
          "text": [
            "<class 'int'>\n"
          ],
          "name": "stdout"
        }
      ]
    },
    {
      "cell_type": "code",
      "metadata": {
        "id": "UbVEsazt6N8z",
        "colab_type": "code",
        "colab": {
          "base_uri": "https://localhost:8080/",
          "height": 34
        },
        "outputId": "581269a4-2a50-404d-e803-66910e0ee97f"
      },
      "source": [
        "pi = 3.14159\n",
        "print(type(pi))"
      ],
      "execution_count": null,
      "outputs": [
        {
          "output_type": "stream",
          "text": [
            "<class 'float'>\n"
          ],
          "name": "stdout"
        }
      ]
    },
    {
      "cell_type": "code",
      "metadata": {
        "id": "MhaJj6_x6N83",
        "colab_type": "code",
        "colab": {
          "base_uri": "https://localhost:8080/",
          "height": 34
        },
        "outputId": "7bc431c7-26ea-4c22-b6c8-da598e926470"
      },
      "source": [
        "fitness = 'average'\n",
        "print(type(fitness))"
      ],
      "execution_count": null,
      "outputs": [
        {
          "output_type": "stream",
          "text": [
            "<class 'str'>\n"
          ],
          "name": "stdout"
        }
      ]
    },
    {
      "cell_type": "code",
      "metadata": {
        "id": "TjZ5OjG66N88",
        "colab_type": "code",
        "colab": {
          "base_uri": "https://localhost:8080/",
          "height": 34
        },
        "outputId": "e1a9fe63-eaab-4c2b-ef56-a5cdc6ebf3fd"
      },
      "source": [
        "print(5 - 3)"
      ],
      "execution_count": null,
      "outputs": [
        {
          "output_type": "stream",
          "text": [
            "2\n"
          ],
          "name": "stdout"
        }
      ]
    },
    {
      "cell_type": "code",
      "metadata": {
        "id": "h7BbZ3La6N8_",
        "colab_type": "code",
        "colab": {
          "base_uri": "https://localhost:8080/",
          "height": 164
        },
        "outputId": "e15996fd-9965-48d1-a5b6-edb3bb7734af"
      },
      "source": [
        "print('hello' - 'h')"
      ],
      "execution_count": null,
      "outputs": [
        {
          "output_type": "error",
          "ename": "TypeError",
          "evalue": "ignored",
          "traceback": [
            "\u001b[0;31m---------------------------------------------------------------------------\u001b[0m",
            "\u001b[0;31mTypeError\u001b[0m                                 Traceback (most recent call last)",
            "\u001b[0;32m<ipython-input-59-35e8597b28d6>\u001b[0m in \u001b[0;36m<module>\u001b[0;34m()\u001b[0m\n\u001b[0;32m----> 1\u001b[0;31m \u001b[0mprint\u001b[0m\u001b[0;34m(\u001b[0m\u001b[0;34m'hello'\u001b[0m \u001b[0;34m-\u001b[0m \u001b[0;34m'h'\u001b[0m\u001b[0;34m)\u001b[0m\u001b[0;34m\u001b[0m\u001b[0;34m\u001b[0m\u001b[0m\n\u001b[0m",
            "\u001b[0;31mTypeError\u001b[0m: unsupported operand type(s) for -: 'str' and 'str'"
          ]
        }
      ]
    },
    {
      "cell_type": "code",
      "metadata": {
        "id": "BBFuC-Mx6N9E",
        "colab_type": "code",
        "colab": {
          "base_uri": "https://localhost:8080/",
          "height": 34
        },
        "outputId": "3edc06b8-830a-40c5-a3b9-4ae3218dde7a"
      },
      "source": [
        "full_name = 'Pushpita' + ' ' + 'Ganguly'\n",
        "print(full_name)"
      ],
      "execution_count": null,
      "outputs": [
        {
          "output_type": "stream",
          "text": [
            "Pushpita Ganguly\n"
          ],
          "name": "stdout"
        }
      ]
    },
    {
      "cell_type": "code",
      "metadata": {
        "id": "AsugeZb46N9J",
        "colab_type": "code",
        "colab": {
          "base_uri": "https://localhost:8080/",
          "height": 34
        },
        "outputId": "47883a4b-38e8-4501-aa46-edea664659e5"
      },
      "source": [
        "separator = '=' * 10\n",
        "print(separator)"
      ],
      "execution_count": null,
      "outputs": [
        {
          "output_type": "stream",
          "text": [
            "==========\n"
          ],
          "name": "stdout"
        }
      ]
    },
    {
      "cell_type": "code",
      "metadata": {
        "id": "UvIejuPx6N9O",
        "colab_type": "code",
        "colab": {
          "base_uri": "https://localhost:8080/",
          "height": 34
        },
        "outputId": "638a71f5-7d90-4e12-c372-44d0c5a1ffc9"
      },
      "source": [
        "print(len(full_name))"
      ],
      "execution_count": null,
      "outputs": [
        {
          "output_type": "stream",
          "text": [
            "16\n"
          ],
          "name": "stdout"
        }
      ]
    },
    {
      "cell_type": "code",
      "metadata": {
        "id": "WJE7WJ1y6N9R",
        "colab_type": "code",
        "colab": {
          "base_uri": "https://localhost:8080/",
          "height": 164
        },
        "outputId": "6c59c4bd-f55e-4e33-c1b2-2f0b77fed3ba"
      },
      "source": [
        "print(len(52))"
      ],
      "execution_count": null,
      "outputs": [
        {
          "output_type": "error",
          "ename": "TypeError",
          "evalue": "ignored",
          "traceback": [
            "\u001b[0;31m---------------------------------------------------------------------------\u001b[0m",
            "\u001b[0;31mTypeError\u001b[0m                                 Traceback (most recent call last)",
            "\u001b[0;32m<ipython-input-63-8e77a6522867>\u001b[0m in \u001b[0;36m<module>\u001b[0;34m()\u001b[0m\n\u001b[0;32m----> 1\u001b[0;31m \u001b[0mprint\u001b[0m\u001b[0;34m(\u001b[0m\u001b[0mlen\u001b[0m\u001b[0;34m(\u001b[0m\u001b[0;36m52\u001b[0m\u001b[0;34m)\u001b[0m\u001b[0;34m)\u001b[0m\u001b[0;34m\u001b[0m\u001b[0;34m\u001b[0m\u001b[0m\n\u001b[0m",
            "\u001b[0;31mTypeError\u001b[0m: object of type 'int' has no len()"
          ]
        }
      ]
    },
    {
      "cell_type": "code",
      "metadata": {
        "id": "NJBVKoJP6N9X",
        "colab_type": "code",
        "colab": {
          "base_uri": "https://localhost:8080/",
          "height": 164
        },
        "outputId": "62e80a39-20d8-4740-f86d-e0ada9ff7756"
      },
      "source": [
        "print(1 + '2')"
      ],
      "execution_count": null,
      "outputs": [
        {
          "output_type": "error",
          "ename": "TypeError",
          "evalue": "ignored",
          "traceback": [
            "\u001b[0;31m---------------------------------------------------------------------------\u001b[0m",
            "\u001b[0;31mTypeError\u001b[0m                                 Traceback (most recent call last)",
            "\u001b[0;32m<ipython-input-64-013270d67d3d>\u001b[0m in \u001b[0;36m<module>\u001b[0;34m()\u001b[0m\n\u001b[0;32m----> 1\u001b[0;31m \u001b[0mprint\u001b[0m\u001b[0;34m(\u001b[0m\u001b[0;36m1\u001b[0m \u001b[0;34m+\u001b[0m \u001b[0;34m'2'\u001b[0m\u001b[0;34m)\u001b[0m\u001b[0;34m\u001b[0m\u001b[0;34m\u001b[0m\u001b[0m\n\u001b[0m",
            "\u001b[0;31mTypeError\u001b[0m: unsupported operand type(s) for +: 'int' and 'str'"
          ]
        }
      ]
    },
    {
      "cell_type": "code",
      "metadata": {
        "id": "XxgasIRC6N9c",
        "colab_type": "code",
        "colab": {
          "base_uri": "https://localhost:8080/",
          "height": 50
        },
        "outputId": "042237d9-8797-444c-bb78-a9c781ba877c"
      },
      "source": [
        "print(1 + int('2'))\n",
        "print(str(1) + '2')"
      ],
      "execution_count": null,
      "outputs": [
        {
          "output_type": "stream",
          "text": [
            "3\n",
            "12\n"
          ],
          "name": "stdout"
        }
      ]
    },
    {
      "cell_type": "code",
      "metadata": {
        "id": "1vpNTor26N9g",
        "colab_type": "code",
        "colab": {
          "base_uri": "https://localhost:8080/",
          "height": 67
        },
        "outputId": "00f0825f-2831-478b-c6a8-b1ad2b6f5812"
      },
      "source": [
        "print('half is', 1 / 2.0)\n",
        "print('three doubled is', 3.0 * 2)\n",
        "print('three squared is', 3.0 ** 2)"
      ],
      "execution_count": null,
      "outputs": [
        {
          "output_type": "stream",
          "text": [
            "half is 0.5\n",
            "three doubled is 6.0\n",
            "three squared is 9.0\n"
          ],
          "name": "stdout"
        }
      ]
    },
    {
      "cell_type": "code",
      "metadata": {
        "id": "SVK3HZRo6N9k",
        "colab_type": "code",
        "colab": {
          "base_uri": "https://localhost:8080/",
          "height": 34
        },
        "outputId": "07ba9a19-5bab-4266-bd2f-cbc68aab168e"
      },
      "source": [
        "first = 1\n",
        "second = 5 * first\n",
        "first = 2\n",
        "print('first is', first, 'and second is', second)"
      ],
      "execution_count": null,
      "outputs": [
        {
          "output_type": "stream",
          "text": [
            "first is 2 and second is 5\n"
          ],
          "name": "stdout"
        }
      ]
    },
    {
      "cell_type": "code",
      "metadata": {
        "id": "YI16MQtV6N9v",
        "colab_type": "code",
        "colab": {
          "base_uri": "https://localhost:8080/",
          "height": 50
        },
        "outputId": "c753701e-932e-485e-8235-16ed7b315860"
      },
      "source": [
        "print('5 // 3:', 5//3)\n",
        "print('5 % 3:', 5%3)"
      ],
      "execution_count": null,
      "outputs": [
        {
          "output_type": "stream",
          "text": [
            "5 // 3: 1\n",
            "5 % 3: 2\n"
          ],
          "name": "stdout"
        }
      ]
    },
    {
      "cell_type": "code",
      "metadata": {
        "id": "RQ2zJaxg6N9z",
        "colab_type": "code",
        "colab": {
          "base_uri": "https://localhost:8080/",
          "height": 34
        },
        "outputId": "c70167b9-c7c6-4dbe-adc5-c24e69882f80"
      },
      "source": [
        "slices = 64\n",
        "slices_per_student = 3\n",
        "\n",
        "# YOUR CODE HERE\n",
        "\n",
        "print(round(slices/slices_per_student), \"students can satisfactorily feed with 64 slices of pizza\")"
      ],
      "execution_count": null,
      "outputs": [
        {
          "output_type": "stream",
          "text": [
            "21 students can satisfactorily feed with 64 slices of pizza\n"
          ],
          "name": "stdout"
        }
      ]
    },
    {
      "cell_type": "code",
      "metadata": {
        "id": "tQzr3cca6N93",
        "colab_type": "code",
        "colab": {
          "base_uri": "https://localhost:8080/",
          "height": 50
        },
        "outputId": "7297a65f-ebe6-40a0-fb8d-c1fe23528c77"
      },
      "source": [
        "print(\"string to float:\", float(\"3.4\"))\n",
        "print(\"float to int:\", int(3.4))"
      ],
      "execution_count": null,
      "outputs": [
        {
          "output_type": "stream",
          "text": [
            "string to float: 3.4\n",
            "float to int: 3\n"
          ],
          "name": "stdout"
        }
      ]
    },
    {
      "cell_type": "code",
      "metadata": {
        "id": "95vyeRpT6N97",
        "colab_type": "code",
        "colab": {
          "base_uri": "https://localhost:8080/",
          "height": 164
        },
        "outputId": "6d239780-1fc9-4c0f-b1d1-54b4f60b70c7"
      },
      "source": [
        "print(\"fractional string to int:\", int(\"3.4\"))"
      ],
      "execution_count": null,
      "outputs": [
        {
          "output_type": "error",
          "ename": "ValueError",
          "evalue": "ignored",
          "traceback": [
            "\u001b[0;31m---------------------------------------------------------------------------\u001b[0m",
            "\u001b[0;31mValueError\u001b[0m                                Traceback (most recent call last)",
            "\u001b[0;32m<ipython-input-72-617dc59d7f19>\u001b[0m in \u001b[0;36m<module>\u001b[0;34m()\u001b[0m\n\u001b[0;32m----> 1\u001b[0;31m \u001b[0mprint\u001b[0m\u001b[0;34m(\u001b[0m\u001b[0;34m\"fractional string to int:\"\u001b[0m\u001b[0;34m,\u001b[0m \u001b[0mint\u001b[0m\u001b[0;34m(\u001b[0m\u001b[0;34m\"3.4\"\u001b[0m\u001b[0;34m)\u001b[0m\u001b[0;34m)\u001b[0m\u001b[0;34m\u001b[0m\u001b[0;34m\u001b[0m\u001b[0m\n\u001b[0m",
            "\u001b[0;31mValueError\u001b[0m: invalid literal for int() with base 10: '3.4'"
          ]
        }
      ]
    },
    {
      "cell_type": "code",
      "metadata": {
        "id": "fyyW8P4P6N9-",
        "colab_type": "code",
        "colab": {
          "base_uri": "https://localhost:8080/",
          "height": 34
        },
        "outputId": "2006644e-8a0e-4516-da31-425527df4312"
      },
      "source": [
        "first = 1.0\n",
        "second = \"1\"\n",
        "third = \"1.1\"\n",
        "print(first + float(second))"
      ],
      "execution_count": null,
      "outputs": [
        {
          "output_type": "stream",
          "text": [
            "2.0\n"
          ],
          "name": "stdout"
        }
      ]
    },
    {
      "cell_type": "code",
      "metadata": {
        "id": "WdGmLBq76N-L",
        "colab_type": "code",
        "colab": {
          "base_uri": "https://localhost:8080/",
          "height": 34
        },
        "outputId": "b083ae09-8ceb-4a88-a9d2-9643c9d963c6"
      },
      "source": [
        "first == second"
      ],
      "execution_count": null,
      "outputs": [
        {
          "output_type": "execute_result",
          "data": {
            "text/plain": [
              "False"
            ]
          },
          "metadata": {
            "tags": []
          },
          "execution_count": 75
        }
      ]
    },
    {
      "cell_type": "code",
      "metadata": {
        "id": "eet2Bt3y6N-P",
        "colab_type": "code",
        "colab": {
          "base_uri": "https://localhost:8080/",
          "height": 50
        },
        "outputId": "31e8a9ef-b672-434f-ad09-0bbf56409276"
      },
      "source": [
        "print(8/4)\n",
        "type(8/4)"
      ],
      "execution_count": null,
      "outputs": [
        {
          "output_type": "stream",
          "text": [
            "2.0\n"
          ],
          "name": "stdout"
        },
        {
          "output_type": "execute_result",
          "data": {
            "text/plain": [
              "float"
            ]
          },
          "metadata": {
            "tags": []
          },
          "execution_count": 76
        }
      ]
    },
    {
      "cell_type": "code",
      "metadata": {
        "id": "4iZk9Bqp6N-V",
        "colab_type": "code",
        "colab": {
          "base_uri": "https://localhost:8080/",
          "height": 50
        },
        "outputId": "a9183462-98a6-4af6-a8ae-9b7e1d581d93"
      },
      "source": [
        "print(8*4)\n",
        "type(8*4)"
      ],
      "execution_count": null,
      "outputs": [
        {
          "output_type": "stream",
          "text": [
            "32\n"
          ],
          "name": "stdout"
        },
        {
          "output_type": "execute_result",
          "data": {
            "text/plain": [
              "int"
            ]
          },
          "metadata": {
            "tags": []
          },
          "execution_count": 77
        }
      ]
    },
    {
      "cell_type": "code",
      "metadata": {
        "id": "NMET-ubX6N-Z",
        "colab_type": "code",
        "colab": {
          "base_uri": "https://localhost:8080/",
          "height": 50
        },
        "outputId": "ddeb4b51-1272-4dde-adcb-44c97178b2e8"
      },
      "source": [
        "print(8*4.5)\n",
        "type(8*4.5)"
      ],
      "execution_count": null,
      "outputs": [
        {
          "output_type": "stream",
          "text": [
            "36.0\n"
          ],
          "name": "stdout"
        },
        {
          "output_type": "execute_result",
          "data": {
            "text/plain": [
              "float"
            ]
          },
          "metadata": {
            "tags": []
          },
          "execution_count": 78
        }
      ]
    },
    {
      "cell_type": "code",
      "metadata": {
        "id": "bui55ABa6N-e",
        "colab_type": "code",
        "colab": {
          "base_uri": "https://localhost:8080/",
          "height": 34
        },
        "outputId": "4c29753a-614a-41a3-c9a7-e5c782b6a6b0"
      },
      "source": [
        "num1 = 30\n",
        "num2 = 35.0\n",
        "\n",
        "type(num1) == type(num2)"
      ],
      "execution_count": null,
      "outputs": [
        {
          "output_type": "execute_result",
          "data": {
            "text/plain": [
              "False"
            ]
          },
          "metadata": {
            "tags": []
          },
          "execution_count": 79
        }
      ]
    },
    {
      "cell_type": "code",
      "metadata": {
        "id": "0IMr--tt6N-i",
        "colab_type": "code",
        "colab": {
          "base_uri": "https://localhost:8080/",
          "height": 34
        },
        "outputId": "a18370d4-0855-499c-a65c-e366b31f88df"
      },
      "source": [
        "print(\"Hello World!\")"
      ],
      "execution_count": null,
      "outputs": [
        {
          "output_type": "stream",
          "text": [
            "Hello World!\n"
          ],
          "name": "stdout"
        }
      ]
    },
    {
      "cell_type": "code",
      "metadata": {
        "id": "6GiPuMdv6N-m",
        "colab_type": "code",
        "colab": {
          "base_uri": "https://localhost:8080/",
          "height": 34
        },
        "outputId": "605f80d1-7118-4edc-d83b-ab914e026731"
      },
      "source": [
        "print(\"I am \" + \"27\" + \" years old.\")"
      ],
      "execution_count": null,
      "outputs": [
        {
          "output_type": "stream",
          "text": [
            "I am 27 years old.\n"
          ],
          "name": "stdout"
        }
      ]
    }
  ]
}